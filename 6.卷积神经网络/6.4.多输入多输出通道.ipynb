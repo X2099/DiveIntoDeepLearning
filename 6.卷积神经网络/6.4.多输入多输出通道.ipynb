{
 "cells": [
  {
   "cell_type": "code",
   "execution_count": 1,
   "id": "16b848b8",
   "metadata": {},
   "outputs": [],
   "source": [
    "import torch\n",
    "from torch import nn"
   ]
  },
  {
   "cell_type": "code",
   "execution_count": 2,
   "id": "2661ae44",
   "metadata": {},
   "outputs": [],
   "source": [
    "import sys\n",
    "sys.path.append('..')\n",
    "from common import d2l"
   ]
  },
  {
   "cell_type": "markdown",
   "id": "36efaa6e",
   "metadata": {},
   "source": [
    "#### 1. 多输入通道"
   ]
  },
  {
   "cell_type": "code",
   "execution_count": 3,
   "id": "1763711c",
   "metadata": {},
   "outputs": [],
   "source": [
    "def corr2d_multi_in(X, K):\n",
    "    return sum(d2l.corr2d(x, k) for x, k in zip(X, K))"
   ]
  },
  {
   "cell_type": "code",
   "execution_count": 4,
   "id": "72197809",
   "metadata": {},
   "outputs": [],
   "source": [
    "X = torch.tensor([[[0.0, 1.0, 2.0], [3.0, 4.0, 5.0], [6.0, 7.0, 8.0]],\n",
    "               [[1.0, 2.0, 3.0], [4.0, 5.0, 6.0], [7.0, 8.0, 9.0]]])\n",
    "K = torch.tensor([[[0.0, 1.0], [2.0, 3.0]], [[1.0, 2.0], [3.0, 4.0]]])"
   ]
  },
  {
   "cell_type": "code",
   "execution_count": 7,
   "id": "a2d2df57",
   "metadata": {},
   "outputs": [
    {
     "data": {
      "text/plain": [
       "(tensor([[[0., 1., 2.],\n",
       "          [3., 4., 5.],\n",
       "          [6., 7., 8.]],\n",
       " \n",
       "         [[1., 2., 3.],\n",
       "          [4., 5., 6.],\n",
       "          [7., 8., 9.]]]),\n",
       " tensor([[[0., 1.],\n",
       "          [2., 3.]],\n",
       " \n",
       "         [[1., 2.],\n",
       "          [3., 4.]]]),\n",
       " tensor([[ 56.,  72.],\n",
       "         [104., 120.]]))"
      ]
     },
     "execution_count": 7,
     "metadata": {},
     "output_type": "execute_result"
    }
   ],
   "source": [
    "X, K, corr2d_multi_in(X, K)"
   ]
  },
  {
   "cell_type": "markdown",
   "id": "a8490020",
   "metadata": {},
   "source": [
    "#### 2. 多输出通道"
   ]
  },
  {
   "cell_type": "code",
   "execution_count": 13,
   "id": "85fc356a",
   "metadata": {},
   "outputs": [],
   "source": [
    "def corr2d_multi_in_out(X, K):\n",
    "    return torch.stack([corr2d_multi_in(X, k) for k in K], 0)"
   ]
  },
  {
   "cell_type": "code",
   "execution_count": 9,
   "id": "df2bd231",
   "metadata": {},
   "outputs": [],
   "source": [
    "K = torch.stack((K, K + 1, K + 2), 0)"
   ]
  },
  {
   "cell_type": "code",
   "execution_count": 11,
   "id": "77f3c40c",
   "metadata": {},
   "outputs": [
    {
     "data": {
      "text/plain": [
       "(tensor([[[[0., 1.],\n",
       "           [2., 3.]],\n",
       " \n",
       "          [[1., 2.],\n",
       "           [3., 4.]]],\n",
       " \n",
       " \n",
       "         [[[1., 2.],\n",
       "           [3., 4.]],\n",
       " \n",
       "          [[2., 3.],\n",
       "           [4., 5.]]],\n",
       " \n",
       " \n",
       "         [[[2., 3.],\n",
       "           [4., 5.]],\n",
       " \n",
       "          [[3., 4.],\n",
       "           [5., 6.]]]]),\n",
       " torch.Size([3, 2, 2, 2]))"
      ]
     },
     "execution_count": 11,
     "metadata": {},
     "output_type": "execute_result"
    }
   ],
   "source": [
    "K, K.shape"
   ]
  },
  {
   "cell_type": "code",
   "execution_count": 15,
   "id": "2e3a7100",
   "metadata": {},
   "outputs": [
    {
     "data": {
      "text/plain": [
       "tensor([[[ 56.,  72.],\n",
       "         [104., 120.]],\n",
       "\n",
       "        [[ 76., 100.],\n",
       "         [148., 172.]],\n",
       "\n",
       "        [[ 96., 128.],\n",
       "         [192., 224.]]])"
      ]
     },
     "execution_count": 15,
     "metadata": {},
     "output_type": "execute_result"
    }
   ],
   "source": [
    "corr2d_multi_in_out(X, K)"
   ]
  },
  {
   "cell_type": "markdown",
   "id": "e693f32e",
   "metadata": {},
   "source": [
    "#### 3. 1 × 1 卷积核"
   ]
  },
  {
   "cell_type": "code",
   "execution_count": 29,
   "id": "67a7f5c5",
   "metadata": {},
   "outputs": [],
   "source": [
    "def corr2d_multi_in_out_1x1(X, K):\n",
    "    \"\"\"\n",
    "    使用全连接实现1 × 1卷积\n",
    "    \"\"\"\n",
    "    c_i, h, w = X.shape\n",
    "    c_o = K.shape[0]\n",
    "    X = X.reshape((c_i, h * w))\n",
    "    K = K.reshape((c_o, c_i))\n",
    "    Y = torch.matmul(K, X)\n",
    "    return Y.reshape((c_o, h, w))"
   ]
  },
  {
   "cell_type": "code",
   "execution_count": 18,
   "id": "eba39de7",
   "metadata": {},
   "outputs": [
    {
     "data": {
      "text/plain": [
       "tensor([[[ 0.7618,  0.5524, -1.4748],\n",
       "         [ 0.1395, -0.0662, -2.1202],\n",
       "         [ 0.9628, -1.6372, -0.5834]],\n",
       "\n",
       "        [[ 0.9430,  0.6866, -0.6623],\n",
       "         [-0.1969,  0.2370,  1.2816],\n",
       "         [ 1.0561, -2.6448,  0.7032]],\n",
       "\n",
       "        [[ 1.3377,  1.0728, -0.1726],\n",
       "         [-0.5431,  0.0862, -0.1626],\n",
       "         [ 0.6299,  1.0852, -0.5187]]])"
      ]
     },
     "execution_count": 18,
     "metadata": {},
     "output_type": "execute_result"
    }
   ],
   "source": [
    "X = torch.normal(0, 1, (3, 3, 3))\n",
    "X"
   ]
  },
  {
   "cell_type": "code",
   "execution_count": 21,
   "id": "9423efc7",
   "metadata": {},
   "outputs": [
    {
     "data": {
      "text/plain": [
       "tensor([[[[-0.2518]],\n",
       "\n",
       "         [[-1.4198]],\n",
       "\n",
       "         [[-1.0211]]],\n",
       "\n",
       "\n",
       "        [[[ 1.5858]],\n",
       "\n",
       "         [[-0.9470]],\n",
       "\n",
       "         [[-0.9477]]]])"
      ]
     },
     "execution_count": 21,
     "metadata": {},
     "output_type": "execute_result"
    }
   ],
   "source": [
    "K = torch.normal(0, 1, (2, 3, 1, 1))\n",
    "K"
   ]
  },
  {
   "cell_type": "code",
   "execution_count": 23,
   "id": "6ac4d096",
   "metadata": {},
   "outputs": [
    {
     "data": {
      "text/plain": [
       "tensor([[[-2.8966, -2.2094,  1.4879],\n",
       "         [ 0.7990, -0.4079, -1.1199],\n",
       "         [-2.3851,  3.0592, -0.3219]],\n",
       "\n",
       "        [[-0.9526, -0.7908, -1.5479],\n",
       "         [ 0.9223, -0.4111, -4.4218],\n",
       "         [-0.0703, -1.1202, -1.0995]]])"
      ]
     },
     "execution_count": 23,
     "metadata": {},
     "output_type": "execute_result"
    }
   ],
   "source": [
    "Y1 = corr2d_multi_in_out(X, K)\n",
    "Y1"
   ]
  },
  {
   "cell_type": "code",
   "execution_count": 30,
   "id": "e8352369",
   "metadata": {},
   "outputs": [
    {
     "data": {
      "text/plain": [
       "tensor([[[-2.8966, -2.2094,  1.4879],\n",
       "         [ 0.7990, -0.4079, -1.1199],\n",
       "         [-2.3851,  3.0592, -0.3219]],\n",
       "\n",
       "        [[-0.9526, -0.7908, -1.5479],\n",
       "         [ 0.9223, -0.4111, -4.4218],\n",
       "         [-0.0703, -1.1202, -1.0995]]])"
      ]
     },
     "execution_count": 30,
     "metadata": {},
     "output_type": "execute_result"
    }
   ],
   "source": [
    "Y2 = corr2d_multi_in_out_1x1(X, K)\n",
    "Y2"
   ]
  },
  {
   "cell_type": "code",
   "execution_count": 31,
   "id": "3a34afa9",
   "metadata": {},
   "outputs": [
    {
     "data": {
      "text/plain": [
       "tensor([[[0., 0., 0.],\n",
       "         [0., 0., 0.],\n",
       "         [0., 0., 0.]],\n",
       "\n",
       "        [[0., 0., 0.],\n",
       "         [0., 0., 0.],\n",
       "         [0., 0., 0.]]])"
      ]
     },
     "execution_count": 31,
     "metadata": {},
     "output_type": "execute_result"
    }
   ],
   "source": [
    "torch.abs(Y1 - Y2)"
   ]
  }
 ],
 "metadata": {
  "kernelspec": {
   "display_name": "Python 3 (ipykernel)",
   "language": "python",
   "name": "python3"
  },
  "language_info": {
   "codemirror_mode": {
    "name": "ipython",
    "version": 3
   },
   "file_extension": ".py",
   "mimetype": "text/x-python",
   "name": "python",
   "nbconvert_exporter": "python",
   "pygments_lexer": "ipython3",
   "version": "3.10.9"
  }
 },
 "nbformat": 4,
 "nbformat_minor": 5
}
