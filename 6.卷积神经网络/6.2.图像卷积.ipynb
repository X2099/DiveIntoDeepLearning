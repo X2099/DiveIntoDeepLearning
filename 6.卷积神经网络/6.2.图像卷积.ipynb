{
 "cells": [
  {
   "cell_type": "code",
   "execution_count": 1,
   "id": "de874a57",
   "metadata": {},
   "outputs": [],
   "source": [
    "import torch\n",
    "from torch import nn"
   ]
  },
  {
   "cell_type": "code",
   "execution_count": 2,
   "id": "e9514a3c",
   "metadata": {},
   "outputs": [],
   "source": [
    "import sys\n",
    "sys.path.insert(0, '..')\n",
    "from common import d2l"
   ]
  },
  {
   "cell_type": "markdown",
   "id": "acc46bf4",
   "metadata": {},
   "source": [
    "#### 1. 互相关运算"
   ]
  },
  {
   "cell_type": "code",
   "execution_count": 3,
   "id": "e3baeb51",
   "metadata": {},
   "outputs": [],
   "source": [
    "X = torch.tensor([[0.0, 1.0, 2.0], [3.0, 4.0, 5.0], [6.0, 7.0, 8.0]])\n",
    "K = torch.tensor([[0.0, 1.0], [2.0, 3.0]])"
   ]
  },
  {
   "cell_type": "code",
   "execution_count": 4,
   "id": "1b7a67ca",
   "metadata": {},
   "outputs": [
    {
     "data": {
      "text/plain": [
       "tensor([[19., 25.],\n",
       "        [37., 43.]])"
      ]
     },
     "execution_count": 4,
     "metadata": {},
     "output_type": "execute_result"
    }
   ],
   "source": [
    "d2l.corr2d(X, K)"
   ]
  },
  {
   "cell_type": "markdown",
   "id": "fc2f5d2b",
   "metadata": {},
   "source": [
    "#### 2. 卷积层"
   ]
  },
  {
   "cell_type": "code",
   "execution_count": 5,
   "id": "c2cc8680",
   "metadata": {},
   "outputs": [],
   "source": [
    "class Conv2D(nn.Module):\n",
    "    def __init__(self, kernel_size):\n",
    "        \"\"\"\n",
    "        :param kernel_size: 卷积核形状\n",
    "        \"\"\"\n",
    "        super().__init__()\n",
    "        self.weight = nn.Parameter(torch.rand(kernel_size))\n",
    "        self.bias = nn.Parameter(torch.zeros(1))\n",
    "\n",
    "    def forward(self, X):\n",
    "        return d2l.corr2d(X, self.weight) + self.bias"
   ]
  },
  {
   "cell_type": "markdown",
   "id": "c122a893",
   "metadata": {},
   "source": [
    "#### 3.图像中目标的边缘检测"
   ]
  },
  {
   "cell_type": "code",
   "execution_count": 6,
   "id": "e134bd97",
   "metadata": {},
   "outputs": [
    {
     "data": {
      "text/plain": [
       "tensor([[1., 1., 0., 0., 0., 0., 1., 1.],\n",
       "        [1., 1., 0., 0., 0., 0., 1., 1.],\n",
       "        [1., 1., 0., 0., 0., 0., 1., 1.],\n",
       "        [1., 1., 0., 0., 0., 0., 1., 1.],\n",
       "        [1., 1., 0., 0., 0., 0., 1., 1.],\n",
       "        [1., 1., 0., 0., 0., 0., 1., 1.]])"
      ]
     },
     "execution_count": 6,
     "metadata": {},
     "output_type": "execute_result"
    }
   ],
   "source": [
    "X = torch.ones((6, 8))\n",
    "X[:, 2:6] = 0\n",
    "X"
   ]
  },
  {
   "cell_type": "code",
   "execution_count": 7,
   "id": "c77142c9",
   "metadata": {},
   "outputs": [],
   "source": [
    "# 卷积核\n",
    "K = torch.tensor([[-1.0, 1.0]])"
   ]
  },
  {
   "cell_type": "code",
   "execution_count": 8,
   "id": "5b548e2f",
   "metadata": {},
   "outputs": [
    {
     "data": {
      "text/plain": [
       "tensor([[ 0., -1.,  0.,  0.,  0.,  1.,  0.],\n",
       "        [ 0., -1.,  0.,  0.,  0.,  1.,  0.],\n",
       "        [ 0., -1.,  0.,  0.,  0.,  1.,  0.],\n",
       "        [ 0., -1.,  0.,  0.,  0.,  1.,  0.],\n",
       "        [ 0., -1.,  0.,  0.,  0.,  1.,  0.],\n",
       "        [ 0., -1.,  0.,  0.,  0.,  1.,  0.]])"
      ]
     },
     "execution_count": 8,
     "metadata": {},
     "output_type": "execute_result"
    }
   ],
   "source": [
    "Y = d2l.corr2d(X, K)  # 检测出了纵向的边缘\n",
    "Y"
   ]
  },
  {
   "cell_type": "code",
   "execution_count": 9,
   "id": "4169ec96",
   "metadata": {},
   "outputs": [
    {
     "data": {
      "text/plain": [
       "tensor([[0., 0., 0., 0., 0.],\n",
       "        [0., 0., 0., 0., 0.],\n",
       "        [0., 0., 0., 0., 0.],\n",
       "        [0., 0., 0., 0., 0.],\n",
       "        [0., 0., 0., 0., 0.],\n",
       "        [0., 0., 0., 0., 0.],\n",
       "        [0., 0., 0., 0., 0.],\n",
       "        [0., 0., 0., 0., 0.]])"
      ]
     },
     "execution_count": 9,
     "metadata": {},
     "output_type": "execute_result"
    }
   ],
   "source": [
    "d2l.corr2d(X.T, K)"
   ]
  },
  {
   "cell_type": "markdown",
   "id": "00733c77",
   "metadata": {},
   "source": [
    "#### 4. 学习卷积核"
   ]
  },
  {
   "cell_type": "code",
   "execution_count": 10,
   "id": "83bf2e91",
   "metadata": {},
   "outputs": [],
   "source": [
    "# 构造一个二维卷积层，它具有1个输出通道和形状为（1，2）的卷积核\n",
    "conv2d = nn.Conv2d(1, 1, kernel_size=(1, 2), bias=False)"
   ]
  },
  {
   "cell_type": "code",
   "execution_count": 11,
   "id": "1d6b3966",
   "metadata": {},
   "outputs": [],
   "source": [
    "X = X.reshape(1, 1, 6, 8)\n",
    "Y = Y.reshape(1, 1, 6, 7)"
   ]
  },
  {
   "cell_type": "code",
   "execution_count": 12,
   "id": "fa4eb5cb",
   "metadata": {},
   "outputs": [],
   "source": [
    "lr = 3e-2"
   ]
  },
  {
   "cell_type": "code",
   "execution_count": 13,
   "id": "ef80e973",
   "metadata": {},
   "outputs": [
    {
     "name": "stdout",
     "output_type": "stream",
     "text": [
      "第1轮迭代，loss 37.425594\n",
      "第2轮迭代，loss 21.030256\n",
      "第3轮迭代，loss 12.262462\n",
      "第4轮迭代，loss 7.357726\n",
      "第5轮迭代，loss 4.508140\n",
      "第6轮迭代，loss 2.802959\n",
      "第7轮迭代，loss 1.760204\n",
      "第8轮迭代，loss 1.112731\n",
      "第9轮迭代，loss 0.706496\n",
      "第10轮迭代，loss 0.449842\n",
      "第11轮迭代，loss 0.286951\n",
      "第12轮迭代，loss 0.183260\n",
      "第13轮迭代，loss 0.117127\n",
      "第14轮迭代，loss 0.074896\n",
      "第15轮迭代，loss 0.047907\n",
      "第16轮迭代，loss 0.030650\n",
      "第17轮迭代，loss 0.019611\n",
      "第18轮迭代，loss 0.012549\n",
      "第19轮迭代，loss 0.008031\n",
      "第20轮迭代，loss 0.005139\n"
     ]
    }
   ],
   "source": [
    "for i in range(20):\n",
    "    Y_hat = conv2d(X)\n",
    "    loss = (Y - Y_hat) ** 2\n",
    "    conv2d.zero_grad()\n",
    "    loss.sum().backward()\n",
    "    # 更新参数\n",
    "    conv2d.weight.data[:] -= lr * conv2d.weight.grad\n",
    "    print(f\"第{i + 1}轮迭代，loss {loss.sum():f}\")"
   ]
  },
  {
   "cell_type": "code",
   "execution_count": 14,
   "id": "17b5d73a",
   "metadata": {},
   "outputs": [
    {
     "data": {
      "text/plain": [
       "tensor([[[[-0.9925,  1.0073]]]])"
      ]
     },
     "execution_count": 14,
     "metadata": {},
     "output_type": "execute_result"
    }
   ],
   "source": [
    "conv2d.weight.data"
   ]
  }
 ],
 "metadata": {
  "kernelspec": {
   "display_name": "Python 3 (ipykernel)",
   "language": "python",
   "name": "python3"
  },
  "language_info": {
   "codemirror_mode": {
    "name": "ipython",
    "version": 3
   },
   "file_extension": ".py",
   "mimetype": "text/x-python",
   "name": "python",
   "nbconvert_exporter": "python",
   "pygments_lexer": "ipython3",
   "version": "3.10.9"
  }
 },
 "nbformat": 4,
 "nbformat_minor": 5
}
