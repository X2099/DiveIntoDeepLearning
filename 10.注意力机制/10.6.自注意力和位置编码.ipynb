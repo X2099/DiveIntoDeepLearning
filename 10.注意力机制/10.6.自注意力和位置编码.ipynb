{
 "cells": [
  {
   "cell_type": "code",
   "execution_count": 1,
   "id": "558bf63b-a037-4e8e-b388-a961c9bcf409",
   "metadata": {},
   "outputs": [],
   "source": [
    "import torch"
   ]
  },
  {
   "cell_type": "code",
   "execution_count": 3,
   "id": "0173e8b8-5a03-4e73-9020-40e13596862d",
   "metadata": {},
   "outputs": [],
   "source": [
    "X = torch.arange(100, dtype=torch.float32).reshape(-1, 1)"
   ]
  },
  {
   "cell_type": "code",
   "execution_count": 4,
   "id": "8f7d2639-8a31-4a8a-ad76-7da4ede233bd",
   "metadata": {},
   "outputs": [
    {
     "data": {
      "text/plain": [
       "tensor([[ 0.],\n",
       "        [ 1.],\n",
       "        [ 2.],\n",
       "        [ 3.],\n",
       "        [ 4.],\n",
       "        [ 5.],\n",
       "        [ 6.],\n",
       "        [ 7.],\n",
       "        [ 8.],\n",
       "        [ 9.],\n",
       "        [10.],\n",
       "        [11.],\n",
       "        [12.],\n",
       "        [13.],\n",
       "        [14.],\n",
       "        [15.],\n",
       "        [16.],\n",
       "        [17.],\n",
       "        [18.],\n",
       "        [19.],\n",
       "        [20.],\n",
       "        [21.],\n",
       "        [22.],\n",
       "        [23.],\n",
       "        [24.],\n",
       "        [25.],\n",
       "        [26.],\n",
       "        [27.],\n",
       "        [28.],\n",
       "        [29.],\n",
       "        [30.],\n",
       "        [31.],\n",
       "        [32.],\n",
       "        [33.],\n",
       "        [34.],\n",
       "        [35.],\n",
       "        [36.],\n",
       "        [37.],\n",
       "        [38.],\n",
       "        [39.],\n",
       "        [40.],\n",
       "        [41.],\n",
       "        [42.],\n",
       "        [43.],\n",
       "        [44.],\n",
       "        [45.],\n",
       "        [46.],\n",
       "        [47.],\n",
       "        [48.],\n",
       "        [49.],\n",
       "        [50.],\n",
       "        [51.],\n",
       "        [52.],\n",
       "        [53.],\n",
       "        [54.],\n",
       "        [55.],\n",
       "        [56.],\n",
       "        [57.],\n",
       "        [58.],\n",
       "        [59.],\n",
       "        [60.],\n",
       "        [61.],\n",
       "        [62.],\n",
       "        [63.],\n",
       "        [64.],\n",
       "        [65.],\n",
       "        [66.],\n",
       "        [67.],\n",
       "        [68.],\n",
       "        [69.],\n",
       "        [70.],\n",
       "        [71.],\n",
       "        [72.],\n",
       "        [73.],\n",
       "        [74.],\n",
       "        [75.],\n",
       "        [76.],\n",
       "        [77.],\n",
       "        [78.],\n",
       "        [79.],\n",
       "        [80.],\n",
       "        [81.],\n",
       "        [82.],\n",
       "        [83.],\n",
       "        [84.],\n",
       "        [85.],\n",
       "        [86.],\n",
       "        [87.],\n",
       "        [88.],\n",
       "        [89.],\n",
       "        [90.],\n",
       "        [91.],\n",
       "        [92.],\n",
       "        [93.],\n",
       "        [94.],\n",
       "        [95.],\n",
       "        [96.],\n",
       "        [97.],\n",
       "        [98.],\n",
       "        [99.]])"
      ]
     },
     "execution_count": 4,
     "metadata": {},
     "output_type": "execute_result"
    }
   ],
   "source": [
    "X"
   ]
  },
  {
   "cell_type": "code",
   "execution_count": 5,
   "id": "4289aad0-b9b6-420e-927b-da677d3f8d19",
   "metadata": {},
   "outputs": [],
   "source": [
    "Y = torch.pow(10000, torch.arange(0, 32, 2, dtype=torch.float32) / 32)"
   ]
  },
  {
   "cell_type": "code",
   "execution_count": 6,
   "id": "3e578349-d5ed-439f-93ae-c0c6c655b6c1",
   "metadata": {},
   "outputs": [
    {
     "data": {
      "text/plain": [
       "tensor([1.0000e+00, 1.7783e+00, 3.1623e+00, 5.6234e+00, 1.0000e+01, 1.7783e+01,\n",
       "        3.1623e+01, 5.6234e+01, 1.0000e+02, 1.7783e+02, 3.1623e+02, 5.6234e+02,\n",
       "        1.0000e+03, 1.7783e+03, 3.1623e+03, 5.6234e+03])"
      ]
     },
     "execution_count": 6,
     "metadata": {},
     "output_type": "execute_result"
    }
   ],
   "source": [
    "Y"
   ]
  },
  {
   "cell_type": "code",
   "execution_count": 7,
   "id": "2efe4f0f-d496-4518-94e3-a9da8feb87fd",
   "metadata": {},
   "outputs": [
    {
     "data": {
      "text/plain": [
       "torch.Size([16])"
      ]
     },
     "execution_count": 7,
     "metadata": {},
     "output_type": "execute_result"
    }
   ],
   "source": [
    "Y.shape"
   ]
  },
  {
   "cell_type": "code",
   "execution_count": null,
   "id": "b2e6f94a-6ac1-4b27-aab9-fd4d6a716a7e",
   "metadata": {},
   "outputs": [],
   "source": []
  }
 ],
 "metadata": {
  "kernelspec": {
   "display_name": "Python 3 (ipykernel)",
   "language": "python",
   "name": "python3"
  },
  "language_info": {
   "codemirror_mode": {
    "name": "ipython",
    "version": 3
   },
   "file_extension": ".py",
   "mimetype": "text/x-python",
   "name": "python",
   "nbconvert_exporter": "python",
   "pygments_lexer": "ipython3",
   "version": "3.11.7"
  }
 },
 "nbformat": 4,
 "nbformat_minor": 5
}
