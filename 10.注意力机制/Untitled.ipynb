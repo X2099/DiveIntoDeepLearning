{
 "cells": [
  {
   "cell_type": "code",
   "execution_count": 1,
   "id": "56bb5411-a00d-4e58-8452-6530e507262e",
   "metadata": {},
   "outputs": [],
   "source": [
    "import torch"
   ]
  },
  {
   "cell_type": "code",
   "execution_count": 3,
   "id": "0b1b94e3-de07-4391-831b-108da427cd8c",
   "metadata": {},
   "outputs": [],
   "source": [
    "num_steps = 10"
   ]
  },
  {
   "cell_type": "code",
   "execution_count": 6,
   "id": "a40a8632-d946-4b2a-b4cd-358f21d50368",
   "metadata": {},
   "outputs": [],
   "source": [
    "dec_valid_lens = torch.arange(1, num_steps + 1).repeat(4, 1)"
   ]
  },
  {
   "cell_type": "code",
   "execution_count": 7,
   "id": "f1b1388a-7f77-4f48-b876-19c685a4d048",
   "metadata": {},
   "outputs": [
    {
     "data": {
      "text/plain": [
       "tensor([[ 1,  2,  3,  4,  5,  6,  7,  8,  9, 10],\n",
       "        [ 1,  2,  3,  4,  5,  6,  7,  8,  9, 10],\n",
       "        [ 1,  2,  3,  4,  5,  6,  7,  8,  9, 10],\n",
       "        [ 1,  2,  3,  4,  5,  6,  7,  8,  9, 10]])"
      ]
     },
     "execution_count": 7,
     "metadata": {},
     "output_type": "execute_result"
    }
   ],
   "source": [
    "dec_valid_lens"
   ]
  },
  {
   "cell_type": "code",
   "execution_count": null,
   "id": "616f6513-51b6-41c3-a95b-718c377a1e2d",
   "metadata": {},
   "outputs": [],
   "source": []
  }
 ],
 "metadata": {
  "kernelspec": {
   "display_name": "Python 3 (ipykernel)",
   "language": "python",
   "name": "python3"
  },
  "language_info": {
   "codemirror_mode": {
    "name": "ipython",
    "version": 3
   },
   "file_extension": ".py",
   "mimetype": "text/x-python",
   "name": "python",
   "nbconvert_exporter": "python",
   "pygments_lexer": "ipython3",
   "version": "3.11.7"
  }
 },
 "nbformat": 4,
 "nbformat_minor": 5
}
