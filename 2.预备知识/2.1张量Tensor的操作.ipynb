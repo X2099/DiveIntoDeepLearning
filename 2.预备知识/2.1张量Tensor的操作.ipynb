{
 "cells": [
  {
   "cell_type": "code",
   "execution_count": 1,
   "id": "6ac2ae96-7065-4f00-bf7f-caff3f6b0d8d",
   "metadata": {},
   "outputs": [],
   "source": [
    "import torch"
   ]
  },
  {
   "cell_type": "markdown",
   "id": "e3000be4-1b29-41ce-9edf-85b92b3767c3",
   "metadata": {},
   "source": [
    "#### 创建0阶张量，即标量"
   ]
  },
  {
   "cell_type": "code",
   "execution_count": 6,
   "id": "683ce016-079c-4ded-824a-53252927a1fa",
   "metadata": {},
   "outputs": [],
   "source": [
    "scalar = torch.tensor(5)"
   ]
  },
  {
   "cell_type": "markdown",
   "id": "d9b25490-e13c-4f75-b910-cddbcfea15ce",
   "metadata": {},
   "source": [
    "#### 标量的阶数"
   ]
  },
  {
   "cell_type": "code",
   "execution_count": 7,
   "id": "362f0457-a744-4008-b764-763ec5c6adc8",
   "metadata": {},
   "outputs": [
    {
     "data": {
      "text/plain": [
       "0"
      ]
     },
     "execution_count": 7,
     "metadata": {},
     "output_type": "execute_result"
    }
   ],
   "source": [
    "scalar.dense_dim()"
   ]
  },
  {
   "cell_type": "markdown",
   "id": "615bd6e8-70b6-47b3-8a89-465fead280bd",
   "metadata": {},
   "source": [
    "#### 标量的维度"
   ]
  },
  {
   "cell_type": "code",
   "execution_count": 8,
   "id": "05369086-f109-4126-90e5-06be086bd1a2",
   "metadata": {},
   "outputs": [
    {
     "data": {
      "text/plain": [
       "torch.Size([])"
      ]
     },
     "execution_count": 8,
     "metadata": {},
     "output_type": "execute_result"
    }
   ],
   "source": [
    "scalar.shape"
   ]
  }
 ],
 "metadata": {
  "kernelspec": {
   "display_name": "Python 3 (ipykernel)",
   "language": "python",
   "name": "python3"
  },
  "language_info": {
   "codemirror_mode": {
    "name": "ipython",
    "version": 3
   },
   "file_extension": ".py",
   "mimetype": "text/x-python",
   "name": "python",
   "nbconvert_exporter": "python",
   "pygments_lexer": "ipython3",
   "version": "3.11.7"
  }
 },
 "nbformat": 4,
 "nbformat_minor": 5
}
