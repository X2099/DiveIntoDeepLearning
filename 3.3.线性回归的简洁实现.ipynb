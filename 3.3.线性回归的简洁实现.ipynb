{
 "cells": [
  {
   "cell_type": "code",
   "execution_count": 1,
   "id": "39c0ad1a",
   "metadata": {},
   "outputs": [],
   "source": [
    "import numpy as np\n",
    "import torch\n",
    "from torch.utils import data"
   ]
  },
  {
   "cell_type": "code",
   "execution_count": 2,
   "id": "e2b00e23",
   "metadata": {},
   "outputs": [],
   "source": [
    "import d2l"
   ]
  },
  {
   "cell_type": "markdown",
   "id": "cc3919f7",
   "metadata": {},
   "source": [
    "### 3.3.1 生成数据集"
   ]
  },
  {
   "cell_type": "code",
   "execution_count": 3,
   "id": "cba8f6d5",
   "metadata": {},
   "outputs": [],
   "source": [
    "true_w = torch.tensor([5.8, -11])\n",
    "true_b = torch.tensor(7.7)"
   ]
  },
  {
   "cell_type": "code",
   "execution_count": 4,
   "id": "ca239bd1",
   "metadata": {},
   "outputs": [],
   "source": [
    "features, labels = d2l.synthetic_data(true_w, true_b, 10000)"
   ]
  },
  {
   "cell_type": "markdown",
   "id": "497e8a9e",
   "metadata": {},
   "source": [
    "### 3.3.2 读取数据集"
   ]
  },
  {
   "cell_type": "code",
   "execution_count": 5,
   "id": "6039138a",
   "metadata": {},
   "outputs": [
    {
     "name": "stdout",
     "output_type": "stream",
     "text": [
      "tensor([[ 1.4104, -0.5487],\n",
      "        [-0.2974,  0.2460],\n",
      "        [-0.3645,  1.0009],\n",
      "        [ 0.7739,  0.0021],\n",
      "        [ 0.0186, -0.2276],\n",
      "        [-0.3259, -0.1638],\n",
      "        [-0.0129, -0.9802],\n",
      "        [ 1.8333,  0.0069],\n",
      "        [-0.1960, -0.1108],\n",
      "        [-0.0022,  0.7544]])\n",
      "tensor([[21.9268],\n",
      "        [ 3.2631],\n",
      "        [-5.4330],\n",
      "        [12.1726],\n",
      "        [10.3139],\n",
      "        [ 7.6213],\n",
      "        [18.4024],\n",
      "        [18.2847],\n",
      "        [ 7.7805],\n",
      "        [-0.6085]])\n"
     ]
    }
   ],
   "source": [
    "for x, y in d2l.load_array((features, labels), 10):\n",
    "    print(x)\n",
    "    print(y)\n",
    "    break"
   ]
  },
  {
   "cell_type": "markdown",
   "id": "e63cf58f",
   "metadata": {},
   "source": [
    "### 3.3.3 定义模型"
   ]
  },
  {
   "cell_type": "code",
   "execution_count": 6,
   "id": "49aa8820",
   "metadata": {},
   "outputs": [],
   "source": [
    "from torch import nn"
   ]
  },
  {
   "cell_type": "code",
   "execution_count": 7,
   "id": "88158322",
   "metadata": {},
   "outputs": [],
   "source": [
    "# 一个线性层，输入特征形状为2，输出现状为1\n",
    "net = nn.Sequential(nn.Linear(2, 1))"
   ]
  },
  {
   "cell_type": "markdown",
   "id": "f4d5d46e",
   "metadata": {},
   "source": [
    "### 3.3.4 初始化参数"
   ]
  },
  {
   "cell_type": "code",
   "execution_count": 8,
   "id": "5f455e17",
   "metadata": {},
   "outputs": [
    {
     "data": {
      "text/plain": [
       "tensor([[0.0206, 0.0031]])"
      ]
     },
     "execution_count": 8,
     "metadata": {},
     "output_type": "execute_result"
    }
   ],
   "source": [
    "net[0].weight.data.normal_(0, 0.01)"
   ]
  },
  {
   "cell_type": "code",
   "execution_count": 9,
   "id": "754d4bc7",
   "metadata": {},
   "outputs": [
    {
     "data": {
      "text/plain": [
       "tensor([0.])"
      ]
     },
     "execution_count": 9,
     "metadata": {},
     "output_type": "execute_result"
    }
   ],
   "source": [
    "net[0].bias.data.fill_(0)"
   ]
  },
  {
   "cell_type": "markdown",
   "id": "47a568b7",
   "metadata": {},
   "source": [
    "### 3.3.5 损失函数"
   ]
  },
  {
   "cell_type": "code",
   "execution_count": 10,
   "id": "5eb3bdf9",
   "metadata": {},
   "outputs": [],
   "source": [
    "loss = nn.MSELoss()  # 均方差损失函数"
   ]
  },
  {
   "cell_type": "markdown",
   "id": "4c44a23d",
   "metadata": {},
   "source": [
    "### 3.3.6 定义优化算法"
   ]
  },
  {
   "cell_type": "code",
   "execution_count": 11,
   "id": "c237d085",
   "metadata": {},
   "outputs": [],
   "source": [
    "trainer = torch.optim.SGD(net.parameters(), lr=0.03)"
   ]
  },
  {
   "cell_type": "markdown",
   "id": "bb9b1540",
   "metadata": {},
   "source": [
    "### 3.3.7 训练"
   ]
  },
  {
   "cell_type": "code",
   "execution_count": 17,
   "id": "b346f023",
   "metadata": {},
   "outputs": [],
   "source": [
    "num_epochs = 3\n",
    "data_iter = d2l.load_array((features, labels), 10)"
   ]
  },
  {
   "cell_type": "code",
   "execution_count": 18,
   "id": "ce1f25df",
   "metadata": {},
   "outputs": [
    {
     "name": "stdout",
     "output_type": "stream",
     "text": [
      "第1轮，损失是：0.000102\n",
      "第2轮，损失是：0.000102\n",
      "第3轮，损失是：0.000101\n"
     ]
    }
   ],
   "source": [
    "for i in range(num_epochs):\n",
    "    for X, y in data_iter:\n",
    "        y_hat = net(X)\n",
    "        l = loss(y_hat, y)\n",
    "        trainer.zero_grad()\n",
    "        l.backward()\n",
    "        trainer.step()\n",
    "    l = loss(net(features), labels)\n",
    "    print(f\"第{i+1}轮，损失是：{l:f}\")"
   ]
  },
  {
   "cell_type": "code",
   "execution_count": 20,
   "id": "c1ffc13e",
   "metadata": {},
   "outputs": [
    {
     "data": {
      "text/plain": [
       "(tensor([  5.8000, -11.0000]), tensor([[  5.8001, -10.9998]]))"
      ]
     },
     "execution_count": 20,
     "metadata": {},
     "output_type": "execute_result"
    }
   ],
   "source": [
    "true_w, net[0].weight.data"
   ]
  },
  {
   "cell_type": "code",
   "execution_count": 22,
   "id": "d45f0c05",
   "metadata": {},
   "outputs": [
    {
     "data": {
      "text/plain": [
       "tensor([[-0.0001, -0.0002]])"
      ]
     },
     "execution_count": 22,
     "metadata": {},
     "output_type": "execute_result"
    }
   ],
   "source": [
    "true_w - net[0].weight.data"
   ]
  },
  {
   "cell_type": "code",
   "execution_count": 21,
   "id": "c4d1f510",
   "metadata": {},
   "outputs": [
    {
     "data": {
      "text/plain": [
       "(tensor(7.7000), tensor([7.7006]))"
      ]
     },
     "execution_count": 21,
     "metadata": {},
     "output_type": "execute_result"
    }
   ],
   "source": [
    "true_b, net[0].bias.data"
   ]
  },
  {
   "cell_type": "code",
   "execution_count": 23,
   "id": "1a782b61",
   "metadata": {},
   "outputs": [
    {
     "data": {
      "text/plain": [
       "tensor([-0.0006])"
      ]
     },
     "execution_count": 23,
     "metadata": {},
     "output_type": "execute_result"
    }
   ],
   "source": [
    "true_b - net[0].bias.data"
   ]
  }
 ],
 "metadata": {
  "kernelspec": {
   "display_name": "Python 3 (ipykernel)",
   "language": "python",
   "name": "python3"
  },
  "language_info": {
   "codemirror_mode": {
    "name": "ipython",
    "version": 3
   },
   "file_extension": ".py",
   "mimetype": "text/x-python",
   "name": "python",
   "nbconvert_exporter": "python",
   "pygments_lexer": "ipython3",
   "version": "3.10.9"
  }
 },
 "nbformat": 4,
 "nbformat_minor": 5
}
