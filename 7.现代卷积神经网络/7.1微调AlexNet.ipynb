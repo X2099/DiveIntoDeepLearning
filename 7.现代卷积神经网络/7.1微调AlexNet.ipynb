{
 "cells": [
  {
   "cell_type": "code",
   "execution_count": 1,
   "id": "e8e9334c",
   "metadata": {},
   "outputs": [],
   "source": [
    "import torch\n",
    "import torch.nn as nn\n",
    "import torch.optim as optim\n",
    "from torch.utils import data\n",
    "import torchvision\n",
    "from torchvision import transforms, models"
   ]
  },
  {
   "cell_type": "code",
   "execution_count": 2,
   "id": "6a80e505",
   "metadata": {},
   "outputs": [],
   "source": [
    "import sys\n",
    "sys.path.append('..')\n",
    "from common import d2l"
   ]
  },
  {
   "cell_type": "markdown",
   "id": "56b41ddc",
   "metadata": {},
   "source": [
    "### 1. 加载CIFAR-10数据"
   ]
  },
  {
   "cell_type": "code",
   "execution_count": 3,
   "id": "fcbaf0b4",
   "metadata": {},
   "outputs": [],
   "source": [
    "# 定义数据转换\n",
    "data_transform = transforms.Compose([\n",
    "    # 将图像调整为指定大小，以便与模型的输入尺寸匹配。这有助于确保模型能够接受统一大小的输入\n",
    "    transforms.Resize(256),\n",
    "    # 对图像进行中心裁剪，以去除图像边缘的无关信息。这在保留主要目标的同时减少了图像的大小\n",
    "    transforms.CenterCrop(224),\n",
    "    # 将图像转换为PyTorch张量格式，并对像素值进行归一化。这是因为PyTorch模型通常接受张量作为输入\n",
    "    transforms.ToTensor(),\n",
    "    # 对图像进行归一化处理，使得图像的像素值服从特定的分布，这有助于加速模型的收敛并提高训练效果\n",
    "    transforms.Normalize(mean=[0.485, 0.456, 0.406], std=[0.229, 0.224, 0.225])\n",
    "])"
   ]
  },
  {
   "cell_type": "code",
   "execution_count": 4,
   "id": "2687f2b5",
   "metadata": {},
   "outputs": [
    {
     "name": "stdout",
     "output_type": "stream",
     "text": [
      "Files already downloaded and verified\n",
      "Files already downloaded and verified\n"
     ]
    }
   ],
   "source": [
    "# 下载并加载CIFAR-10数据集\n",
    "train_dataset = torchvision.datasets.CIFAR10(root='../data', train=True, download=True, transform=data_transform)\n",
    "test_dataset = torchvision.datasets.CIFAR10(root='../data', train=False, download=True, transform=data_transform)"
   ]
  },
  {
   "cell_type": "code",
   "execution_count": 5,
   "id": "16511e44",
   "metadata": {},
   "outputs": [],
   "source": [
    "# 创建数据加载器\n",
    "train_loader = data.DataLoader(train_dataset, batch_size=32, shuffle=True, num_workers=0)\n",
    "test_loader = data.DataLoader(test_dataset, batch_size=32, shuffle=False, num_workers=0)"
   ]
  },
  {
   "cell_type": "markdown",
   "id": "c582dfdf",
   "metadata": {},
   "source": [
    "### 2. 加载训练的AlexNet模型"
   ]
  },
  {
   "cell_type": "code",
   "execution_count": 6,
   "id": "f5272d78",
   "metadata": {},
   "outputs": [],
   "source": [
    "# 加载预训练的 AlexNet 模型\n",
    "alexnet = models.alexnet(weights=models.AlexNet_Weights.DEFAULT)"
   ]
  },
  {
   "cell_type": "code",
   "execution_count": 7,
   "id": "97f8be4b",
   "metadata": {},
   "outputs": [
    {
     "data": {
      "text/plain": [
       "AlexNet(\n",
       "  (features): Sequential(\n",
       "    (0): Conv2d(3, 64, kernel_size=(11, 11), stride=(4, 4), padding=(2, 2))\n",
       "    (1): ReLU(inplace=True)\n",
       "    (2): MaxPool2d(kernel_size=3, stride=2, padding=0, dilation=1, ceil_mode=False)\n",
       "    (3): Conv2d(64, 192, kernel_size=(5, 5), stride=(1, 1), padding=(2, 2))\n",
       "    (4): ReLU(inplace=True)\n",
       "    (5): MaxPool2d(kernel_size=3, stride=2, padding=0, dilation=1, ceil_mode=False)\n",
       "    (6): Conv2d(192, 384, kernel_size=(3, 3), stride=(1, 1), padding=(1, 1))\n",
       "    (7): ReLU(inplace=True)\n",
       "    (8): Conv2d(384, 256, kernel_size=(3, 3), stride=(1, 1), padding=(1, 1))\n",
       "    (9): ReLU(inplace=True)\n",
       "    (10): Conv2d(256, 256, kernel_size=(3, 3), stride=(1, 1), padding=(1, 1))\n",
       "    (11): ReLU(inplace=True)\n",
       "    (12): MaxPool2d(kernel_size=3, stride=2, padding=0, dilation=1, ceil_mode=False)\n",
       "  )\n",
       "  (avgpool): AdaptiveAvgPool2d(output_size=(6, 6))\n",
       "  (classifier): Sequential(\n",
       "    (0): Dropout(p=0.5, inplace=False)\n",
       "    (1): Linear(in_features=9216, out_features=4096, bias=True)\n",
       "    (2): ReLU(inplace=True)\n",
       "    (3): Dropout(p=0.5, inplace=False)\n",
       "    (4): Linear(in_features=4096, out_features=4096, bias=True)\n",
       "    (5): ReLU(inplace=True)\n",
       "    (6): Linear(in_features=4096, out_features=1000, bias=True)\n",
       "  )\n",
       ")"
      ]
     },
     "execution_count": 7,
     "metadata": {},
     "output_type": "execute_result"
    }
   ],
   "source": [
    "alexnet"
   ]
  },
  {
   "cell_type": "code",
   "execution_count": 9,
   "id": "db4e5781",
   "metadata": {},
   "outputs": [],
   "source": [
    "# 将最后一层的全连接层替换成适合CIFAR-10数据集的新的全连接层\n",
    "num_classes = 10  # 10个输出类别\n",
    "alexnet.classifier[6] = nn.Linear(alexnet.classifier[6].in_features, num_classes)"
   ]
  },
  {
   "cell_type": "markdown",
   "id": "e6604419",
   "metadata": {},
   "source": [
    "### 3. 定义损失函数和优化器"
   ]
  },
  {
   "cell_type": "code",
   "execution_count": 11,
   "id": "2bb82d4c",
   "metadata": {},
   "outputs": [],
   "source": [
    "# 定义损失函数和优化器\n",
    "criterion = nn.CrossEntropyLoss()\n",
    "optimizer = optim.SGD(alexnet.parameters(), lr=0.001, momentum=0.9)  # momentum参数引入了一个动量项"
   ]
  },
  {
   "cell_type": "markdown",
   "id": "35cfb281",
   "metadata": {},
   "source": [
    "### 4. 设置设备CPU或GPU"
   ]
  },
  {
   "cell_type": "code",
   "execution_count": 13,
   "id": "6690819c",
   "metadata": {},
   "outputs": [],
   "source": [
    "# 设置设备\n",
    "device = torch.device(\"cuda:0\" if torch.cuda.is_available() else \"cpu\")\n",
    "alexnet.to(device)\n",
    "\n",
    "timer = d2l.Timer()  # 启动一个计时器"
   ]
  },
  {
   "cell_type": "markdown",
   "id": "dc47aa16",
   "metadata": {},
   "source": [
    "### 5. 训练模型"
   ]
  },
  {
   "cell_type": "code",
   "execution_count": 14,
   "id": "ff0c008f",
   "metadata": {},
   "outputs": [
    {
     "name": "stdout",
     "output_type": "stream",
     "text": [
      "用时： 539.2840476036072\n",
      "迭代周期 [1/1], 训练损失: 1.0106, 训练精度: 0.6435\n"
     ]
    }
   ],
   "source": [
    "num_epochs = 1\n",
    "for epoch in range(num_epochs):\n",
    "    running_loss = 0.0  # 损失\n",
    "    correct = 0  # 预测正确的数量\n",
    "    total = 0 # 总数量\n",
    "\n",
    "    alexnet.train()\n",
    "\n",
    "    for i, (inputs, labels) in enumerate(train_loader):\n",
    "        inputs, labels = inputs.to(device), labels.to(device)\n",
    "\n",
    "        optimizer.zero_grad()\n",
    "        outputs = alexnet(inputs)\n",
    "        loss = criterion(outputs, labels)\n",
    "        loss.backward()\n",
    "        optimizer.step()\n",
    "        running_loss += loss.item() * inputs.size(0)\n",
    "        _, predicted = torch.max(outputs, 1)\n",
    "        total += labels.size(0)\n",
    "        correct += (predicted == labels).sum().item()\n",
    "        if i >= 200:\n",
    "            print(\"用时：\", timer.stop())\n",
    "            break\n",
    "    train_loss = running_loss / total\n",
    "    train_acc = correct / total\n",
    "\n",
    "    print(f'迭代周期 [{epoch + 1}/{num_epochs}], 训练损失: {train_loss:.4f}, 训练精度: {train_acc:.4f}')"
   ]
  },
  {
   "cell_type": "markdown",
   "id": "f9be0251",
   "metadata": {},
   "source": [
    "### 6. 测试模型"
   ]
  },
  {
   "cell_type": "code",
   "execution_count": 15,
   "id": "68778543",
   "metadata": {},
   "outputs": [
    {
     "name": "stdout",
     "output_type": "stream",
     "text": [
      "测试精度: 0.7812\n"
     ]
    }
   ],
   "source": [
    "alexnet.eval()\n",
    "test_correct = 0\n",
    "test_total = 0\n",
    "\n",
    "with torch.no_grad():\n",
    "    for inputs, labels in test_loader:\n",
    "        inputs, labels = inputs.to(device), labels.to(device)\n",
    "        outputs = alexnet(inputs)\n",
    "        _, predicted = torch.max(outputs, 1)\n",
    "        test_total += labels.size(0)\n",
    "        test_correct += (predicted == labels).sum().item()\n",
    "        break\n",
    "\n",
    "test_acc = test_correct / test_total\n",
    "print(f'测试精度: {test_acc:.4f}')"
   ]
  },
  {
   "cell_type": "code",
   "execution_count": 16,
   "id": "e1cee825",
   "metadata": {},
   "outputs": [],
   "source": [
    "import matplotlib.pyplot as plt\n",
    "import numpy as np"
   ]
  },
  {
   "cell_type": "code",
   "execution_count": 18,
   "id": "3f8eaaaf",
   "metadata": {},
   "outputs": [],
   "source": [
    "label_to_class = {\n",
    "    0: '飞机',\n",
    "    1: '汽车',\n",
    "    2: '鸟类',\n",
    "    3: '猫',\n",
    "    4: '鹿',\n",
    "    5: '狗',\n",
    "    6: '青蛙',\n",
    "    7: '马',\n",
    "    8: '船',\n",
    "    9: '卡车'\n",
    "}"
   ]
  },
  {
   "cell_type": "code",
   "execution_count": null,
   "id": "04bb7b34",
   "metadata": {},
   "outputs": [],
   "source": [
    "with torch.no_grad():\n",
    "    for images, labels in test_loader:\n",
    "        images, labels = images.to(device), labels.to(device)\n",
    "        outputs = alexnet(images)\n",
    "        _, predicted = torch.max(outputs, 1)\n",
    "\n",
    "        # 将张量转换为numpy数组\n",
    "        images = images.cpu().numpy()\n",
    "        labels = labels.cpu().numpy()\n",
    "        predicted = predicted.cpu().numpy()\n",
    "\n",
    "        # 可视化预测结果和图像\n",
    "        for i in range(len(images)):\n",
    "            plt.imshow(np.transpose(images[i], (1, 2, 0)), interpolation='nearest')  # 将图像从(C, H, W)转换为(H, W, C)格式\n",
    "            plt.title(f\"真实类型: {label_to_class[labels[i]]}, 预测类型: {label_to_class[predicted[i]]}\")\n",
    "            plt.show()\n",
    "        break"
   ]
  }
 ],
 "metadata": {
  "kernelspec": {
   "display_name": "Python 3 (ipykernel)",
   "language": "python",
   "name": "python3"
  },
  "language_info": {
   "codemirror_mode": {
    "name": "ipython",
    "version": 3
   },
   "file_extension": ".py",
   "mimetype": "text/x-python",
   "name": "python",
   "nbconvert_exporter": "python",
   "pygments_lexer": "ipython3",
   "version": "3.10.9"
  }
 },
 "nbformat": 4,
 "nbformat_minor": 5
}
