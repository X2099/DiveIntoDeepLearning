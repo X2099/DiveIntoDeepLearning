{
 "cells": [
  {
   "cell_type": "code",
   "execution_count": 1,
   "id": "ffaa8b69",
   "metadata": {},
   "outputs": [
    {
     "data": {
      "text/plain": [
       "<torch._C.Generator at 0x1b706034b50>"
      ]
     },
     "execution_count": 1,
     "metadata": {},
     "output_type": "execute_result"
    }
   ],
   "source": [
    "import torch\n",
    "from torch import nn\n",
    "torch.manual_seed(2099)"
   ]
  },
  {
   "cell_type": "code",
   "execution_count": 2,
   "id": "51a52b23",
   "metadata": {},
   "outputs": [],
   "source": [
    "net = nn.Sequential(nn.Linear(4, 8), nn.ReLU(), nn.Linear(8, 1))"
   ]
  },
  {
   "cell_type": "code",
   "execution_count": 3,
   "id": "7845b285",
   "metadata": {},
   "outputs": [],
   "source": [
    "X = torch.rand(size=(2, 4))"
   ]
  },
  {
   "cell_type": "code",
   "execution_count": 4,
   "id": "8153d36c",
   "metadata": {},
   "outputs": [
    {
     "data": {
      "text/plain": [
       "tensor([[-0.1282],\n",
       "        [-0.0987]], grad_fn=<AddmmBackward0>)"
      ]
     },
     "execution_count": 4,
     "metadata": {},
     "output_type": "execute_result"
    }
   ],
   "source": [
    "net(X)"
   ]
  },
  {
   "cell_type": "code",
   "execution_count": 5,
   "id": "ae807b29",
   "metadata": {},
   "outputs": [
    {
     "data": {
      "text/plain": [
       "Sequential(\n",
       "  (0): Linear(in_features=4, out_features=8, bias=True)\n",
       "  (1): ReLU()\n",
       "  (2): Linear(in_features=8, out_features=1, bias=True)\n",
       ")"
      ]
     },
     "execution_count": 5,
     "metadata": {},
     "output_type": "execute_result"
    }
   ],
   "source": [
    "net"
   ]
  },
  {
   "cell_type": "markdown",
   "id": "316bad0c",
   "metadata": {},
   "source": [
    "#### 1. 访问参数"
   ]
  },
  {
   "cell_type": "code",
   "execution_count": 6,
   "id": "6d9c7876",
   "metadata": {},
   "outputs": [
    {
     "data": {
      "text/plain": [
       "OrderedDict([('weight',\n",
       "              tensor([[-0.1877,  0.4050, -0.4963,  0.3841],\n",
       "                      [ 0.3765,  0.3211, -0.3570,  0.4775],\n",
       "                      [-0.3840, -0.4015, -0.0134, -0.0548],\n",
       "                      [-0.4021,  0.0073, -0.0681,  0.1147],\n",
       "                      [-0.0604,  0.2029,  0.4182,  0.2056],\n",
       "                      [-0.0390,  0.3900, -0.1084, -0.1969],\n",
       "                      [-0.4476, -0.3049, -0.0990,  0.4068],\n",
       "                      [ 0.0343,  0.4048, -0.2852,  0.2114]])),\n",
       "             ('bias',\n",
       "              tensor([-0.3736, -0.1743, -0.4957,  0.0392,  0.4622, -0.2760, -0.0108, -0.3508]))])"
      ]
     },
     "execution_count": 6,
     "metadata": {},
     "output_type": "execute_result"
    }
   ],
   "source": [
    "net[0].state_dict()"
   ]
  },
  {
   "cell_type": "code",
   "execution_count": 7,
   "id": "3b886376",
   "metadata": {},
   "outputs": [
    {
     "data": {
      "text/plain": [
       "(ReLU(), OrderedDict())"
      ]
     },
     "execution_count": 7,
     "metadata": {},
     "output_type": "execute_result"
    }
   ],
   "source": [
    "net[1], net[1].state_dict()"
   ]
  },
  {
   "cell_type": "code",
   "execution_count": 8,
   "id": "a7316c08",
   "metadata": {},
   "outputs": [
    {
     "data": {
      "text/plain": [
       "(Linear(in_features=8, out_features=1, bias=True),\n",
       " OrderedDict([('weight',\n",
       "               tensor([[-0.1374, -0.0657,  0.3024, -0.0057,  0.2794,  0.1247,  0.0791,  0.1464]])),\n",
       "              ('bias', tensor([-0.2930]))]))"
      ]
     },
     "execution_count": 8,
     "metadata": {},
     "output_type": "execute_result"
    }
   ],
   "source": [
    "net[2], net[2].state_dict()"
   ]
  },
  {
   "cell_type": "code",
   "execution_count": 9,
   "id": "0891145c",
   "metadata": {},
   "outputs": [
    {
     "name": "stdout",
     "output_type": "stream",
     "text": [
      "<class 'torch.nn.parameter.Parameter'>\n"
     ]
    }
   ],
   "source": [
    "print(type(net[2].bias))"
   ]
  },
  {
   "cell_type": "code",
   "execution_count": 10,
   "id": "5609d9ac",
   "metadata": {},
   "outputs": [
    {
     "name": "stdout",
     "output_type": "stream",
     "text": [
      "Parameter containing:\n",
      "tensor([-0.2930], requires_grad=True)\n"
     ]
    }
   ],
   "source": [
    "print(net[2].bias)"
   ]
  },
  {
   "cell_type": "code",
   "execution_count": 11,
   "id": "f60fb94d",
   "metadata": {},
   "outputs": [
    {
     "name": "stdout",
     "output_type": "stream",
     "text": [
      "tensor([-0.2930])\n"
     ]
    }
   ],
   "source": [
    "print(net[2].bias.data)"
   ]
  },
  {
   "cell_type": "code",
   "execution_count": 12,
   "id": "7f92716f",
   "metadata": {},
   "outputs": [
    {
     "data": {
      "text/plain": [
       "True"
      ]
     },
     "execution_count": 12,
     "metadata": {},
     "output_type": "execute_result"
    }
   ],
   "source": [
    "net[2].weight.grad is None"
   ]
  },
  {
   "cell_type": "markdown",
   "id": "a5d8ec77",
   "metadata": {},
   "source": [
    "#### 一次性访问所有参数"
   ]
  },
  {
   "cell_type": "code",
   "execution_count": 17,
   "id": "f3b6af15",
   "metadata": {},
   "outputs": [
    {
     "name": "stdout",
     "output_type": "stream",
     "text": [
      "('weight', Parameter containing:\n",
      "tensor([[-0.1374, -0.0657,  0.3024, -0.0057,  0.2794,  0.1247,  0.0791,  0.1464]],\n",
      "       requires_grad=True)) ('bias', Parameter containing:\n",
      "tensor([-0.2930], requires_grad=True))\n"
     ]
    }
   ],
   "source": [
    "print(*[(name, para) for name, para in net[2].named_parameters()])"
   ]
  },
  {
   "cell_type": "code",
   "execution_count": 18,
   "id": "d37d91f6",
   "metadata": {},
   "outputs": [
    {
     "name": "stdout",
     "output_type": "stream",
     "text": [
      "('0.weight', Parameter containing:\n",
      "tensor([[-0.1877,  0.4050, -0.4963,  0.3841],\n",
      "        [ 0.3765,  0.3211, -0.3570,  0.4775],\n",
      "        [-0.3840, -0.4015, -0.0134, -0.0548],\n",
      "        [-0.4021,  0.0073, -0.0681,  0.1147],\n",
      "        [-0.0604,  0.2029,  0.4182,  0.2056],\n",
      "        [-0.0390,  0.3900, -0.1084, -0.1969],\n",
      "        [-0.4476, -0.3049, -0.0990,  0.4068],\n",
      "        [ 0.0343,  0.4048, -0.2852,  0.2114]], requires_grad=True)) ('0.bias', Parameter containing:\n",
      "tensor([-0.3736, -0.1743, -0.4957,  0.0392,  0.4622, -0.2760, -0.0108, -0.3508],\n",
      "       requires_grad=True)) ('2.weight', Parameter containing:\n",
      "tensor([[-0.1374, -0.0657,  0.3024, -0.0057,  0.2794,  0.1247,  0.0791,  0.1464]],\n",
      "       requires_grad=True)) ('2.bias', Parameter containing:\n",
      "tensor([-0.2930], requires_grad=True))\n"
     ]
    }
   ],
   "source": [
    "print(*[(name, para) for name, para in net.named_parameters()])"
   ]
  },
  {
   "cell_type": "code",
   "execution_count": 21,
   "id": "aa5021bb",
   "metadata": {},
   "outputs": [
    {
     "data": {
      "text/plain": [
       "OrderedDict([('0.weight',\n",
       "              tensor([[-0.1877,  0.4050, -0.4963,  0.3841],\n",
       "                      [ 0.3765,  0.3211, -0.3570,  0.4775],\n",
       "                      [-0.3840, -0.4015, -0.0134, -0.0548],\n",
       "                      [-0.4021,  0.0073, -0.0681,  0.1147],\n",
       "                      [-0.0604,  0.2029,  0.4182,  0.2056],\n",
       "                      [-0.0390,  0.3900, -0.1084, -0.1969],\n",
       "                      [-0.4476, -0.3049, -0.0990,  0.4068],\n",
       "                      [ 0.0343,  0.4048, -0.2852,  0.2114]])),\n",
       "             ('0.bias',\n",
       "              tensor([-0.3736, -0.1743, -0.4957,  0.0392,  0.4622, -0.2760, -0.0108, -0.3508])),\n",
       "             ('2.weight',\n",
       "              tensor([[-0.1374, -0.0657,  0.3024, -0.0057,  0.2794,  0.1247,  0.0791,  0.1464]])),\n",
       "             ('2.bias', tensor([-0.2930]))])"
      ]
     },
     "execution_count": 21,
     "metadata": {},
     "output_type": "execute_result"
    }
   ],
   "source": [
    "net.state_dict()"
   ]
  },
  {
   "cell_type": "code",
   "execution_count": 22,
   "id": "91378012",
   "metadata": {},
   "outputs": [
    {
     "data": {
      "text/plain": [
       "tensor([[-0.1374, -0.0657,  0.3024, -0.0057,  0.2794,  0.1247,  0.0791,  0.1464]])"
      ]
     },
     "execution_count": 22,
     "metadata": {},
     "output_type": "execute_result"
    }
   ],
   "source": [
    "net.state_dict()['2.weight']"
   ]
  },
  {
   "cell_type": "code",
   "execution_count": 23,
   "id": "c9c17b61",
   "metadata": {},
   "outputs": [],
   "source": [
    "def block1():\n",
    "    return nn.Sequential(nn.Linear(4, 8), nn.ReLU(),\n",
    "                         nn.Linear(8, 4), nn.ReLU())\n",
    "\n",
    "def block2():\n",
    "    net = nn.Sequential()\n",
    "    for i in range(4):\n",
    "        # 在这里嵌套\n",
    "        net.add_module(f'block {i}', block1())\n",
    "    return net\n",
    "\n",
    "rgnet = nn.Sequential(block2(), nn.Linear(4, 1))"
   ]
  },
  {
   "cell_type": "code",
   "execution_count": 24,
   "id": "1b778915",
   "metadata": {},
   "outputs": [
    {
     "data": {
      "text/plain": [
       "tensor([[-0.2949],\n",
       "        [-0.2949]], grad_fn=<AddmmBackward0>)"
      ]
     },
     "execution_count": 24,
     "metadata": {},
     "output_type": "execute_result"
    }
   ],
   "source": [
    "rgnet(X)"
   ]
  },
  {
   "cell_type": "code",
   "execution_count": 25,
   "id": "896d3f9d",
   "metadata": {
    "scrolled": true
   },
   "outputs": [
    {
     "data": {
      "text/plain": [
       "Sequential(\n",
       "  (0): Sequential(\n",
       "    (block 0): Sequential(\n",
       "      (0): Linear(in_features=4, out_features=8, bias=True)\n",
       "      (1): ReLU()\n",
       "      (2): Linear(in_features=8, out_features=4, bias=True)\n",
       "      (3): ReLU()\n",
       "    )\n",
       "    (block 1): Sequential(\n",
       "      (0): Linear(in_features=4, out_features=8, bias=True)\n",
       "      (1): ReLU()\n",
       "      (2): Linear(in_features=8, out_features=4, bias=True)\n",
       "      (3): ReLU()\n",
       "    )\n",
       "    (block 2): Sequential(\n",
       "      (0): Linear(in_features=4, out_features=8, bias=True)\n",
       "      (1): ReLU()\n",
       "      (2): Linear(in_features=8, out_features=4, bias=True)\n",
       "      (3): ReLU()\n",
       "    )\n",
       "    (block 3): Sequential(\n",
       "      (0): Linear(in_features=4, out_features=8, bias=True)\n",
       "      (1): ReLU()\n",
       "      (2): Linear(in_features=8, out_features=4, bias=True)\n",
       "      (3): ReLU()\n",
       "    )\n",
       "  )\n",
       "  (1): Linear(in_features=4, out_features=1, bias=True)\n",
       ")"
      ]
     },
     "execution_count": 25,
     "metadata": {},
     "output_type": "execute_result"
    }
   ],
   "source": [
    "rgnet"
   ]
  },
  {
   "cell_type": "code",
   "execution_count": 29,
   "id": "fa0166df",
   "metadata": {},
   "outputs": [
    {
     "data": {
      "text/plain": [
       "tensor([-0.0416,  0.2661, -0.0609, -0.2617])"
      ]
     },
     "execution_count": 29,
     "metadata": {},
     "output_type": "execute_result"
    }
   ],
   "source": [
    "rgnet[0][1][2].bias.data"
   ]
  },
  {
   "cell_type": "markdown",
   "id": "6166f053",
   "metadata": {},
   "source": [
    "#### 2. 参数初始化"
   ]
  },
  {
   "cell_type": "code",
   "execution_count": 30,
   "id": "b87ee1b4",
   "metadata": {},
   "outputs": [],
   "source": [
    "def init_normal(m):\n",
    "    if type(m) == nn.Linear:\n",
    "        # 内置参数初始化器\n",
    "        nn.init.normal_(m.weight, mean=0, std=0.01)\n",
    "        nn.init.zeros_(m.bias)"
   ]
  },
  {
   "cell_type": "code",
   "execution_count": 31,
   "id": "c88cc54b",
   "metadata": {},
   "outputs": [
    {
     "data": {
      "text/plain": [
       "Sequential(\n",
       "  (0): Linear(in_features=4, out_features=8, bias=True)\n",
       "  (1): ReLU()\n",
       "  (2): Linear(in_features=8, out_features=1, bias=True)\n",
       ")"
      ]
     },
     "execution_count": 31,
     "metadata": {},
     "output_type": "execute_result"
    }
   ],
   "source": [
    "net.apply(init_normal)"
   ]
  },
  {
   "cell_type": "code",
   "execution_count": 32,
   "id": "e8a5cabf",
   "metadata": {},
   "outputs": [
    {
     "data": {
      "text/plain": [
       "OrderedDict([('0.weight',\n",
       "              tensor([[ 0.0054, -0.0159, -0.0021, -0.0167],\n",
       "                      [ 0.0096, -0.0146,  0.0041,  0.0055],\n",
       "                      [ 0.0150, -0.0083,  0.0065,  0.0123],\n",
       "                      [ 0.0033,  0.0040, -0.0011, -0.0125],\n",
       "                      [ 0.0030, -0.0108, -0.0172,  0.0113],\n",
       "                      [ 0.0110, -0.0055,  0.0042,  0.0040],\n",
       "                      [ 0.0014,  0.0029, -0.0013,  0.0087],\n",
       "                      [-0.0105,  0.0114,  0.0002,  0.0215]])),\n",
       "             ('0.bias', tensor([0., 0., 0., 0., 0., 0., 0., 0.])),\n",
       "             ('2.weight',\n",
       "              tensor([[-0.0187, -0.0077, -0.0074,  0.0103,  0.0027,  0.0017,  0.0057,  0.0026]])),\n",
       "             ('2.bias', tensor([0.]))])"
      ]
     },
     "execution_count": 32,
     "metadata": {},
     "output_type": "execute_result"
    }
   ],
   "source": [
    "net.state_dict()"
   ]
  },
  {
   "cell_type": "code",
   "execution_count": 33,
   "id": "b09772ba",
   "metadata": {},
   "outputs": [],
   "source": [
    "def init_constant(m):\n",
    "    if type(m) == nn.Linear:\n",
    "        # 参数初始化为常数\n",
    "        nn.init.constant_(m.weight, 1)\n",
    "        nn.init.zeros_(m.bias)"
   ]
  },
  {
   "cell_type": "code",
   "execution_count": 34,
   "id": "ed395b67",
   "metadata": {},
   "outputs": [
    {
     "data": {
      "text/plain": [
       "Sequential(\n",
       "  (0): Linear(in_features=4, out_features=8, bias=True)\n",
       "  (1): ReLU()\n",
       "  (2): Linear(in_features=8, out_features=1, bias=True)\n",
       ")"
      ]
     },
     "execution_count": 34,
     "metadata": {},
     "output_type": "execute_result"
    }
   ],
   "source": [
    "net.apply(init_constant)"
   ]
  },
  {
   "cell_type": "code",
   "execution_count": 35,
   "id": "a8244c8c",
   "metadata": {},
   "outputs": [
    {
     "data": {
      "text/plain": [
       "OrderedDict([('weight', tensor([[1., 1., 1., 1., 1., 1., 1., 1.]])),\n",
       "             ('bias', tensor([0.]))])"
      ]
     },
     "execution_count": 35,
     "metadata": {},
     "output_type": "execute_result"
    }
   ],
   "source": [
    "net[2].state_dict()"
   ]
  },
  {
   "cell_type": "code",
   "execution_count": 36,
   "id": "aeade7e4",
   "metadata": {},
   "outputs": [],
   "source": [
    "def init_xavier(m):\n",
    "    if type(m) == nn.Linear:\n",
    "        nn.init.xavier_uniform_(m.weight)\n",
    "def init_2099(m):\n",
    "    if type(m) == nn.Linear:\n",
    "        nn.init.constant_(m.weight, 2.099)"
   ]
  },
  {
   "cell_type": "code",
   "execution_count": 37,
   "id": "14769e0e",
   "metadata": {},
   "outputs": [
    {
     "data": {
      "text/plain": [
       "Linear(in_features=8, out_features=1, bias=True)"
      ]
     },
     "execution_count": 37,
     "metadata": {},
     "output_type": "execute_result"
    }
   ],
   "source": [
    "net[0].apply(init_2099)\n",
    "net[2].apply(init_xavier)"
   ]
  },
  {
   "cell_type": "code",
   "execution_count": 38,
   "id": "dae4176a",
   "metadata": {
    "scrolled": true
   },
   "outputs": [
    {
     "data": {
      "text/plain": [
       "OrderedDict([('0.weight',\n",
       "              tensor([[2.0990, 2.0990, 2.0990, 2.0990],\n",
       "                      [2.0990, 2.0990, 2.0990, 2.0990],\n",
       "                      [2.0990, 2.0990, 2.0990, 2.0990],\n",
       "                      [2.0990, 2.0990, 2.0990, 2.0990],\n",
       "                      [2.0990, 2.0990, 2.0990, 2.0990],\n",
       "                      [2.0990, 2.0990, 2.0990, 2.0990],\n",
       "                      [2.0990, 2.0990, 2.0990, 2.0990],\n",
       "                      [2.0990, 2.0990, 2.0990, 2.0990]])),\n",
       "             ('0.bias', tensor([0., 0., 0., 0., 0., 0., 0., 0.])),\n",
       "             ('2.weight',\n",
       "              tensor([[ 0.5799,  0.1993,  0.6499,  0.2861, -0.1187, -0.4263, -0.6296, -0.2539]])),\n",
       "             ('2.bias', tensor([0.]))])"
      ]
     },
     "execution_count": 38,
     "metadata": {},
     "output_type": "execute_result"
    }
   ],
   "source": [
    "net.state_dict()"
   ]
  },
  {
   "cell_type": "markdown",
   "id": "f1509150",
   "metadata": {},
   "source": [
    "#### 自定义初始化"
   ]
  },
  {
   "cell_type": "code",
   "execution_count": 39,
   "id": "6d576924",
   "metadata": {},
   "outputs": [],
   "source": [
    "def my_init(m):\n",
    "    if type(m) == nn.Linear:\n",
    "        print(\"初始化参数：\", *[(name, param.shape) for name, param in m.named_parameters()][0])\n",
    "        nn.init.uniform_(m.weight, -10, 10)\n",
    "        m.weight.data *= m.weight.abs() <= 5"
   ]
  },
  {
   "cell_type": "code",
   "execution_count": 40,
   "id": "df834a79",
   "metadata": {},
   "outputs": [
    {
     "name": "stdout",
     "output_type": "stream",
     "text": [
      "初始化参数： weight torch.Size([8, 4])\n",
      "初始化参数： weight torch.Size([1, 8])\n"
     ]
    },
    {
     "data": {
      "text/plain": [
       "Sequential(\n",
       "  (0): Linear(in_features=4, out_features=8, bias=True)\n",
       "  (1): ReLU()\n",
       "  (2): Linear(in_features=8, out_features=1, bias=True)\n",
       ")"
      ]
     },
     "execution_count": 40,
     "metadata": {},
     "output_type": "execute_result"
    }
   ],
   "source": [
    "net.apply(my_init)"
   ]
  },
  {
   "cell_type": "code",
   "execution_count": 41,
   "id": "83c2e7f2",
   "metadata": {},
   "outputs": [
    {
     "data": {
      "text/plain": [
       "OrderedDict([('0.weight',\n",
       "              tensor([[ 0.0000,  0.0000,  0.0000,  3.7068],\n",
       "                      [ 2.7179, -0.0000, -0.0000,  1.3512],\n",
       "                      [ 0.0000, -0.9948, -0.0000,  2.2204],\n",
       "                      [ 0.0000, -1.3212,  1.7576,  0.0000],\n",
       "                      [ 0.0000,  1.5075, -0.1535, -0.0000],\n",
       "                      [ 1.9311,  0.0000,  0.0000, -1.6526],\n",
       "                      [ 4.3464, -0.0000,  0.6213,  0.0000],\n",
       "                      [-2.4103, -0.1730,  2.4200,  3.9227]])),\n",
       "             ('0.bias', tensor([0., 0., 0., 0., 0., 0., 0., 0.])),\n",
       "             ('2.weight',\n",
       "              tensor([[-0.0000, -0.1962,  4.9190,  2.3955, -1.3821, -4.7296, -0.0000,  0.0000]])),\n",
       "             ('2.bias', tensor([0.]))])"
      ]
     },
     "execution_count": 41,
     "metadata": {},
     "output_type": "execute_result"
    }
   ],
   "source": [
    "net.state_dict()"
   ]
  },
  {
   "cell_type": "code",
   "execution_count": 47,
   "id": "03959a53",
   "metadata": {},
   "outputs": [],
   "source": [
    "net[2].weight.data[:] -= 1"
   ]
  },
  {
   "cell_type": "code",
   "execution_count": 50,
   "id": "2ee1de1d",
   "metadata": {},
   "outputs": [],
   "source": [
    "net[2].weight.data[0, 1] = 2099"
   ]
  },
  {
   "cell_type": "code",
   "execution_count": 51,
   "id": "355627a8",
   "metadata": {},
   "outputs": [
    {
     "data": {
      "text/plain": [
       "OrderedDict([('weight',\n",
       "              tensor([[ 0.0000e+00,  2.0990e+03,  4.9190e+00,  2.3955e+00, -1.3821e+00,\n",
       "                       -4.7296e+00,  0.0000e+00,  0.0000e+00]])),\n",
       "             ('bias', tensor([0.]))])"
      ]
     },
     "execution_count": 51,
     "metadata": {},
     "output_type": "execute_result"
    }
   ],
   "source": [
    "net[2].state_dict()"
   ]
  },
  {
   "cell_type": "markdown",
   "id": "9bc895be",
   "metadata": {},
   "source": [
    "#### 3. 参数绑定"
   ]
  },
  {
   "cell_type": "code",
   "execution_count": 52,
   "id": "241fb608",
   "metadata": {},
   "outputs": [],
   "source": [
    "shared = nn.Linear(8, 8)  # 共享层"
   ]
  },
  {
   "cell_type": "code",
   "execution_count": 53,
   "id": "2cd02017",
   "metadata": {},
   "outputs": [],
   "source": [
    "net = nn.Sequential(nn.Linear(4, 8), nn.ReLU(), shared, nn.ReLU(), shared, nn.Linear(8,1 ))"
   ]
  },
  {
   "cell_type": "code",
   "execution_count": 57,
   "id": "7ba546b4",
   "metadata": {},
   "outputs": [
    {
     "data": {
      "text/plain": [
       "tensor([[True, True, True, True, True, True, True, True],\n",
       "        [True, True, True, True, True, True, True, True],\n",
       "        [True, True, True, True, True, True, True, True],\n",
       "        [True, True, True, True, True, True, True, True],\n",
       "        [True, True, True, True, True, True, True, True],\n",
       "        [True, True, True, True, True, True, True, True],\n",
       "        [True, True, True, True, True, True, True, True],\n",
       "        [True, True, True, True, True, True, True, True]])"
      ]
     },
     "execution_count": 57,
     "metadata": {},
     "output_type": "execute_result"
    }
   ],
   "source": [
    "net[2].weight.data == net[4].weight.data"
   ]
  }
 ],
 "metadata": {
  "kernelspec": {
   "display_name": "Python 3 (ipykernel)",
   "language": "python",
   "name": "python3"
  },
  "language_info": {
   "codemirror_mode": {
    "name": "ipython",
    "version": 3
   },
   "file_extension": ".py",
   "mimetype": "text/x-python",
   "name": "python",
   "nbconvert_exporter": "python",
   "pygments_lexer": "ipython3",
   "version": "3.10.9"
  }
 },
 "nbformat": 4,
 "nbformat_minor": 5
}
