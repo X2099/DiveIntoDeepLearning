{
 "cells": [
  {
   "cell_type": "code",
   "execution_count": 1,
   "id": "57d00011",
   "metadata": {},
   "outputs": [],
   "source": [
    "import torch  # torch 火炬"
   ]
  },
  {
   "cell_type": "markdown",
   "id": "d79eb6f6",
   "metadata": {},
   "source": [
    "### 2.2.1 pytorch张量（tensor）"
   ]
  },
  {
   "cell_type": "code",
   "execution_count": 2,
   "id": "3b7b1c92",
   "metadata": {},
   "outputs": [],
   "source": [
    "x = torch.arange(15)"
   ]
  },
  {
   "cell_type": "code",
   "execution_count": 3,
   "id": "4d571e1e",
   "metadata": {},
   "outputs": [
    {
     "data": {
      "text/plain": [
       "tensor([ 0,  1,  2,  3,  4,  5,  6,  7,  8,  9, 10, 11, 12, 13, 14])"
      ]
     },
     "execution_count": 3,
     "metadata": {},
     "output_type": "execute_result"
    }
   ],
   "source": [
    "x"
   ]
  },
  {
   "cell_type": "code",
   "execution_count": 4,
   "id": "c1824011",
   "metadata": {},
   "outputs": [
    {
     "data": {
      "text/plain": [
       "torch.Tensor"
      ]
     },
     "execution_count": 4,
     "metadata": {},
     "output_type": "execute_result"
    }
   ],
   "source": [
    "type(x)"
   ]
  },
  {
   "cell_type": "code",
   "execution_count": 5,
   "id": "df1edd11",
   "metadata": {},
   "outputs": [
    {
     "data": {
      "text/plain": [
       "torch.Size([15])"
      ]
     },
     "execution_count": 5,
     "metadata": {},
     "output_type": "execute_result"
    }
   ],
   "source": [
    "x.shape  # 张量的形状"
   ]
  },
  {
   "cell_type": "code",
   "execution_count": 6,
   "id": "b7775f36",
   "metadata": {},
   "outputs": [
    {
     "data": {
      "text/plain": [
       "tensor([[ 0,  1,  2,  3,  4],\n",
       "        [ 5,  6,  7,  8,  9],\n",
       "        [10, 11, 12, 13, 14]])"
      ]
     },
     "execution_count": 6,
     "metadata": {},
     "output_type": "execute_result"
    }
   ],
   "source": [
    "x.reshape(3, 5)  # 改变张量的形状"
   ]
  },
  {
   "cell_type": "code",
   "execution_count": 8,
   "id": "b1313d93",
   "metadata": {},
   "outputs": [
    {
     "data": {
      "text/plain": [
       "15"
      ]
     },
     "execution_count": 8,
     "metadata": {},
     "output_type": "execute_result"
    }
   ],
   "source": [
    "x.numel()  # 张量的元素总数"
   ]
  },
  {
   "cell_type": "markdown",
   "id": "e888fde0",
   "metadata": {},
   "source": [
    "#### 创建一个全0的张量"
   ]
  },
  {
   "cell_type": "code",
   "execution_count": 11,
   "id": "7d4a5e64",
   "metadata": {},
   "outputs": [
    {
     "data": {
      "text/plain": [
       "tensor([[[0., 0., 0., 0.],\n",
       "         [0., 0., 0., 0.],\n",
       "         [0., 0., 0., 0.]],\n",
       "\n",
       "        [[0., 0., 0., 0.],\n",
       "         [0., 0., 0., 0.],\n",
       "         [0., 0., 0., 0.]]])"
      ]
     },
     "execution_count": 11,
     "metadata": {},
     "output_type": "execute_result"
    }
   ],
   "source": [
    "torch.zeros(2,3,4)"
   ]
  },
  {
   "cell_type": "markdown",
   "id": "be07ec62",
   "metadata": {},
   "source": [
    "#### 创建一个全1的张量"
   ]
  },
  {
   "cell_type": "code",
   "execution_count": 12,
   "id": "9f54db59",
   "metadata": {},
   "outputs": [
    {
     "data": {
      "text/plain": [
       "tensor([[1., 1., 1., 1., 1., 1.],\n",
       "        [1., 1., 1., 1., 1., 1.],\n",
       "        [1., 1., 1., 1., 1., 1.]])"
      ]
     },
     "execution_count": 12,
     "metadata": {},
     "output_type": "execute_result"
    }
   ],
   "source": [
    "torch.ones(3, 6)"
   ]
  },
  {
   "cell_type": "markdown",
   "id": "18fd9ff4",
   "metadata": {},
   "source": [
    "#### 创建一个元素符合正态分布的随机张量"
   ]
  },
  {
   "cell_type": "code",
   "execution_count": 13,
   "id": "a9ab87a0",
   "metadata": {},
   "outputs": [
    {
     "data": {
      "text/plain": [
       "tensor([[-1.2684,  1.0679, -0.4450, -0.4613, -0.7750,  1.0775,  0.9476],\n",
       "        [-0.8435, -1.2638,  0.3740, -1.5040,  0.3525, -0.4228, -0.9788],\n",
       "        [-1.2436,  1.3120,  0.5624, -0.1862, -0.5008,  0.4394,  1.3265]])"
      ]
     },
     "execution_count": 13,
     "metadata": {},
     "output_type": "execute_result"
    }
   ],
   "source": [
    "torch.randn(3, 7)"
   ]
  },
  {
   "cell_type": "markdown",
   "id": "c58f78be",
   "metadata": {},
   "source": [
    "#### 自定义一个张量"
   ]
  },
  {
   "cell_type": "code",
   "execution_count": 14,
   "id": "4eaf89e3",
   "metadata": {},
   "outputs": [
    {
     "data": {
      "text/plain": [
       "tensor([[  1,   2,   3],\n",
       "        [  7,   8,   9],\n",
       "        [100, 101, 102]])"
      ]
     },
     "execution_count": 14,
     "metadata": {},
     "output_type": "execute_result"
    }
   ],
   "source": [
    "torch.tensor([[1, 2, 3], [7, 8, 9], [100, 101, 102]])"
   ]
  },
  {
   "cell_type": "code",
   "execution_count": 15,
   "id": "fde0c0e6",
   "metadata": {},
   "outputs": [
    {
     "data": {
      "text/plain": [
       "torch.Size([3, 3])"
      ]
     },
     "execution_count": 15,
     "metadata": {},
     "output_type": "execute_result"
    }
   ],
   "source": [
    "_.shape"
   ]
  },
  {
   "cell_type": "markdown",
   "id": "dd6efac5",
   "metadata": {},
   "source": [
    "### 2.1.2 张量的运算"
   ]
  },
  {
   "cell_type": "code",
   "execution_count": 16,
   "id": "c9d2d665",
   "metadata": {},
   "outputs": [],
   "source": [
    "x = torch.tensor([1.0, 2.1, 3.6])\n",
    "y = torch.tensor([100, 200, 300])"
   ]
  },
  {
   "cell_type": "code",
   "execution_count": 17,
   "id": "be9763d1",
   "metadata": {},
   "outputs": [
    {
     "data": {
      "text/plain": [
       "tensor([101.0000, 202.1000, 303.6000])"
      ]
     },
     "execution_count": 17,
     "metadata": {},
     "output_type": "execute_result"
    }
   ],
   "source": [
    "x + y"
   ]
  },
  {
   "cell_type": "code",
   "execution_count": 18,
   "id": "9c0e5d1f",
   "metadata": {},
   "outputs": [
    {
     "data": {
      "text/plain": [
       "tensor([ -99.0000, -197.9000, -296.4000])"
      ]
     },
     "execution_count": 18,
     "metadata": {},
     "output_type": "execute_result"
    }
   ],
   "source": [
    "x - y"
   ]
  },
  {
   "cell_type": "code",
   "execution_count": 19,
   "id": "14c13524",
   "metadata": {},
   "outputs": [
    {
     "data": {
      "text/plain": [
       "tensor([ 100.0000,  420.0000, 1080.0000])"
      ]
     },
     "execution_count": 19,
     "metadata": {},
     "output_type": "execute_result"
    }
   ],
   "source": [
    "x * y"
   ]
  },
  {
   "cell_type": "code",
   "execution_count": 20,
   "id": "21efe831",
   "metadata": {},
   "outputs": [
    {
     "data": {
      "text/plain": [
       "tensor([100.0000,  95.2381,  83.3333])"
      ]
     },
     "execution_count": 20,
     "metadata": {},
     "output_type": "execute_result"
    }
   ],
   "source": [
    "y / x"
   ]
  },
  {
   "cell_type": "code",
   "execution_count": 22,
   "id": "f08315ff",
   "metadata": {},
   "outputs": [
    {
     "data": {
      "text/plain": [
       "tensor([1.0000e+02, 6.7946e+04, 8.2725e+08])"
      ]
     },
     "execution_count": 22,
     "metadata": {},
     "output_type": "execute_result"
    }
   ],
   "source": [
    "y ** x"
   ]
  },
  {
   "cell_type": "code",
   "execution_count": 24,
   "id": "c150dd97",
   "metadata": {},
   "outputs": [
    {
     "data": {
      "text/plain": [
       "tensor([ 2.7183,  8.1662, 36.5982])"
      ]
     },
     "execution_count": 24,
     "metadata": {},
     "output_type": "execute_result"
    }
   ],
   "source": [
    "torch.exp(x)  # e的指数"
   ]
  },
  {
   "cell_type": "markdown",
   "id": "46d4d40f",
   "metadata": {},
   "source": [
    "#### 张量的拼接"
   ]
  },
  {
   "cell_type": "code",
   "execution_count": 25,
   "id": "064cd511",
   "metadata": {},
   "outputs": [],
   "source": [
    "x = torch.arange(12, dtype=torch.float32).reshape(3, 4)"
   ]
  },
  {
   "cell_type": "code",
   "execution_count": 26,
   "id": "2ff00621",
   "metadata": {},
   "outputs": [],
   "source": [
    "y = torch.tensor([[2.0, 1, 4, 3], [1, 2, 3, 4], [4, 3, 2, 1]])"
   ]
  },
  {
   "cell_type": "code",
   "execution_count": 31,
   "id": "4f1f7f8a",
   "metadata": {},
   "outputs": [
    {
     "data": {
      "text/plain": [
       "tensor([[ 0.,  1.,  2.,  3.],\n",
       "        [ 4.,  5.,  6.,  7.],\n",
       "        [ 8.,  9., 10., 11.],\n",
       "        [ 2.,  1.,  4.,  3.],\n",
       "        [ 1.,  2.,  3.,  4.],\n",
       "        [ 4.,  3.,  2.,  1.]])"
      ]
     },
     "execution_count": 31,
     "metadata": {},
     "output_type": "execute_result"
    }
   ],
   "source": [
    "torch.cat((x, y), dim=0)"
   ]
  },
  {
   "cell_type": "code",
   "execution_count": 32,
   "id": "12e4192c",
   "metadata": {},
   "outputs": [
    {
     "data": {
      "text/plain": [
       "tensor([[ 0.,  1.,  2.,  3.,  2.,  1.,  4.,  3.],\n",
       "        [ 4.,  5.,  6.,  7.,  1.,  2.,  3.,  4.],\n",
       "        [ 8.,  9., 10., 11.,  4.,  3.,  2.,  1.]])"
      ]
     },
     "execution_count": 32,
     "metadata": {},
     "output_type": "execute_result"
    }
   ],
   "source": [
    "torch.cat((x, y), dim=1)"
   ]
  },
  {
   "cell_type": "code",
   "execution_count": 33,
   "id": "939deafb",
   "metadata": {},
   "outputs": [
    {
     "data": {
      "text/plain": [
       "tensor([[False,  True, False,  True],\n",
       "        [False, False, False, False],\n",
       "        [False, False, False, False]])"
      ]
     },
     "execution_count": 33,
     "metadata": {},
     "output_type": "execute_result"
    }
   ],
   "source": [
    "x == y"
   ]
  },
  {
   "cell_type": "code",
   "execution_count": 36,
   "id": "5936cdc5",
   "metadata": {},
   "outputs": [
    {
     "data": {
      "text/plain": [
       "tensor(66.)"
      ]
     },
     "execution_count": 36,
     "metadata": {},
     "output_type": "execute_result"
    }
   ],
   "source": [
    "x.sum()"
   ]
  },
  {
   "cell_type": "code",
   "execution_count": 37,
   "id": "21847b9d",
   "metadata": {},
   "outputs": [
    {
     "data": {
      "text/plain": [
       "tensor(30.)"
      ]
     },
     "execution_count": 37,
     "metadata": {},
     "output_type": "execute_result"
    }
   ],
   "source": [
    "y.sum()"
   ]
  },
  {
   "cell_type": "markdown",
   "id": "18ffab1a",
   "metadata": {},
   "source": [
    "### 2.1.3 广播机制"
   ]
  },
  {
   "cell_type": "code",
   "execution_count": 38,
   "id": "6796d1b3",
   "metadata": {},
   "outputs": [],
   "source": [
    "a = torch.arange(3).reshape(3, 1)"
   ]
  },
  {
   "cell_type": "code",
   "execution_count": 40,
   "id": "7648b484",
   "metadata": {},
   "outputs": [],
   "source": [
    "b = torch.arange(2).reshape(1, 2)"
   ]
  },
  {
   "cell_type": "code",
   "execution_count": 42,
   "id": "c04d68f0",
   "metadata": {},
   "outputs": [
    {
     "data": {
      "text/plain": [
       "(tensor([[0],\n",
       "         [1],\n",
       "         [2]]),\n",
       " tensor([[0, 1]]))"
      ]
     },
     "execution_count": 42,
     "metadata": {},
     "output_type": "execute_result"
    }
   ],
   "source": [
    "a, b"
   ]
  },
  {
   "cell_type": "code",
   "execution_count": 43,
   "id": "46410209",
   "metadata": {},
   "outputs": [
    {
     "data": {
      "text/plain": [
       "tensor([[0, 1],\n",
       "        [1, 2],\n",
       "        [2, 3]])"
      ]
     },
     "execution_count": 43,
     "metadata": {},
     "output_type": "execute_result"
    }
   ],
   "source": [
    "a + b"
   ]
  },
  {
   "cell_type": "code",
   "execution_count": 44,
   "id": "f0c8b6d1",
   "metadata": {},
   "outputs": [],
   "source": [
    "a1 = torch.tensor([[0, 0], [1, 1], [2, 2]])\n",
    "b1 = torch.tensor([[0, 1], [0, 1], [0, 1]])"
   ]
  },
  {
   "cell_type": "code",
   "execution_count": 46,
   "id": "07bc3d40",
   "metadata": {},
   "outputs": [
    {
     "data": {
      "text/plain": [
       "tensor([[True, True],\n",
       "        [True, True],\n",
       "        [True, True]])"
      ]
     },
     "execution_count": 46,
     "metadata": {},
     "output_type": "execute_result"
    }
   ],
   "source": [
    "a1 + b1 == a + b"
   ]
  },
  {
   "cell_type": "markdown",
   "id": "5fa5a641",
   "metadata": {},
   "source": [
    "### 2.1.4 索引和切片"
   ]
  },
  {
   "cell_type": "code",
   "execution_count": 47,
   "id": "4f1ca540",
   "metadata": {},
   "outputs": [],
   "source": [
    "x = torch.arange(24).reshape(3, 2, 4)"
   ]
  },
  {
   "cell_type": "code",
   "execution_count": 50,
   "id": "4c26d625",
   "metadata": {},
   "outputs": [
    {
     "data": {
      "text/plain": [
       "tensor([[[ 0,  1,  2,  3],\n",
       "         [ 4,  5,  6,  7]],\n",
       "\n",
       "        [[ 8,  9, 10, 11],\n",
       "         [12, 13, 14, 15]],\n",
       "\n",
       "        [[16, 17, 18, 19],\n",
       "         [20, 21, 22, 23]]])"
      ]
     },
     "execution_count": 50,
     "metadata": {},
     "output_type": "execute_result"
    }
   ],
   "source": [
    "x"
   ]
  },
  {
   "cell_type": "code",
   "execution_count": 51,
   "id": "7442fa56",
   "metadata": {},
   "outputs": [
    {
     "data": {
      "text/plain": [
       "tensor([[0, 1, 2, 3],\n",
       "        [4, 5, 6, 7]])"
      ]
     },
     "execution_count": 51,
     "metadata": {},
     "output_type": "execute_result"
    }
   ],
   "source": [
    "x[0]"
   ]
  },
  {
   "cell_type": "code",
   "execution_count": 52,
   "id": "f2167b09",
   "metadata": {},
   "outputs": [
    {
     "data": {
      "text/plain": [
       "tensor([[16, 17, 18, 19],\n",
       "        [20, 21, 22, 23]])"
      ]
     },
     "execution_count": 52,
     "metadata": {},
     "output_type": "execute_result"
    }
   ],
   "source": [
    "x[-1]"
   ]
  },
  {
   "cell_type": "code",
   "execution_count": 53,
   "id": "9110a57d",
   "metadata": {},
   "outputs": [
    {
     "data": {
      "text/plain": [
       "tensor([[ 0,  1,  2,  3],\n",
       "        [ 8,  9, 10, 11],\n",
       "        [16, 17, 18, 19]])"
      ]
     },
     "execution_count": 53,
     "metadata": {},
     "output_type": "execute_result"
    }
   ],
   "source": [
    "x[:, 0]"
   ]
  },
  {
   "cell_type": "code",
   "execution_count": 54,
   "id": "f5d1b9ac",
   "metadata": {},
   "outputs": [
    {
     "data": {
      "text/plain": [
       "tensor([[ 1,  2],\n",
       "        [ 9, 10]])"
      ]
     },
     "execution_count": 54,
     "metadata": {},
     "output_type": "execute_result"
    }
   ],
   "source": [
    "x[:2, 0, 1:3]"
   ]
  },
  {
   "cell_type": "code",
   "execution_count": 55,
   "id": "4ae4475e",
   "metadata": {},
   "outputs": [],
   "source": [
    "x[-1, 0, -1] = 100"
   ]
  },
  {
   "cell_type": "code",
   "execution_count": 56,
   "id": "878dbded",
   "metadata": {},
   "outputs": [
    {
     "data": {
      "text/plain": [
       "tensor([[[  0,   1,   2,   3],\n",
       "         [  4,   5,   6,   7]],\n",
       "\n",
       "        [[  8,   9,  10,  11],\n",
       "         [ 12,  13,  14,  15]],\n",
       "\n",
       "        [[ 16,  17,  18, 100],\n",
       "         [ 20,  21,  22,  23]]])"
      ]
     },
     "execution_count": 56,
     "metadata": {},
     "output_type": "execute_result"
    }
   ],
   "source": [
    "x"
   ]
  },
  {
   "cell_type": "markdown",
   "id": "9641d1b7",
   "metadata": {},
   "source": [
    "### 2.1.5 内存操作"
   ]
  },
  {
   "cell_type": "code",
   "execution_count": 57,
   "id": "574fe9b7",
   "metadata": {},
   "outputs": [],
   "source": [
    "before_id = id(x)"
   ]
  },
  {
   "cell_type": "code",
   "execution_count": 58,
   "id": "78496924",
   "metadata": {},
   "outputs": [
    {
     "data": {
      "text/plain": [
       "1977427280896"
      ]
     },
     "execution_count": 58,
     "metadata": {},
     "output_type": "execute_result"
    }
   ],
   "source": [
    "before_id"
   ]
  },
  {
   "cell_type": "code",
   "execution_count": 59,
   "id": "ee91d27b",
   "metadata": {},
   "outputs": [],
   "source": [
    "x = x * 0.5"
   ]
  },
  {
   "cell_type": "code",
   "execution_count": 62,
   "id": "9d496130",
   "metadata": {},
   "outputs": [
    {
     "data": {
      "text/plain": [
       "False"
      ]
     },
     "execution_count": 62,
     "metadata": {},
     "output_type": "execute_result"
    }
   ],
   "source": [
    "id(x) == before_id"
   ]
  },
  {
   "cell_type": "code",
   "execution_count": 63,
   "id": "e30fb33b",
   "metadata": {},
   "outputs": [],
   "source": [
    "z = torch.zeros_like(x)"
   ]
  },
  {
   "cell_type": "code",
   "execution_count": 65,
   "id": "156dbaa6",
   "metadata": {},
   "outputs": [
    {
     "data": {
      "text/plain": [
       "1977427096448"
      ]
     },
     "execution_count": 65,
     "metadata": {},
     "output_type": "execute_result"
    }
   ],
   "source": [
    "id(z)"
   ]
  },
  {
   "cell_type": "code",
   "execution_count": 66,
   "id": "54b1568f",
   "metadata": {},
   "outputs": [],
   "source": [
    "z[:] = x + torch.ones_like(x)"
   ]
  },
  {
   "cell_type": "code",
   "execution_count": 67,
   "id": "a09b3752",
   "metadata": {},
   "outputs": [
    {
     "data": {
      "text/plain": [
       "tensor([[[ 1.0000,  1.5000,  2.0000,  2.5000],\n",
       "         [ 3.0000,  3.5000,  4.0000,  4.5000]],\n",
       "\n",
       "        [[ 5.0000,  5.5000,  6.0000,  6.5000],\n",
       "         [ 7.0000,  7.5000,  8.0000,  8.5000]],\n",
       "\n",
       "        [[ 9.0000,  9.5000, 10.0000, 51.0000],\n",
       "         [11.0000, 11.5000, 12.0000, 12.5000]]])"
      ]
     },
     "execution_count": 67,
     "metadata": {},
     "output_type": "execute_result"
    }
   ],
   "source": [
    "z"
   ]
  },
  {
   "cell_type": "code",
   "execution_count": 68,
   "id": "ecd010b0",
   "metadata": {},
   "outputs": [
    {
     "data": {
      "text/plain": [
       "1977427096448"
      ]
     },
     "execution_count": 68,
     "metadata": {},
     "output_type": "execute_result"
    }
   ],
   "source": [
    "id(z)"
   ]
  },
  {
   "cell_type": "code",
   "execution_count": 69,
   "id": "2eff0b3d",
   "metadata": {},
   "outputs": [],
   "source": [
    "z += x"
   ]
  },
  {
   "cell_type": "code",
   "execution_count": 70,
   "id": "c8e0f5ae",
   "metadata": {},
   "outputs": [
    {
     "data": {
      "text/plain": [
       "tensor([[[  1.,   2.,   3.,   4.],\n",
       "         [  5.,   6.,   7.,   8.]],\n",
       "\n",
       "        [[  9.,  10.,  11.,  12.],\n",
       "         [ 13.,  14.,  15.,  16.]],\n",
       "\n",
       "        [[ 17.,  18.,  19., 101.],\n",
       "         [ 21.,  22.,  23.,  24.]]])"
      ]
     },
     "execution_count": 70,
     "metadata": {},
     "output_type": "execute_result"
    }
   ],
   "source": [
    "z"
   ]
  },
  {
   "cell_type": "code",
   "execution_count": 71,
   "id": "454646e4",
   "metadata": {},
   "outputs": [
    {
     "data": {
      "text/plain": [
       "1977427096448"
      ]
     },
     "execution_count": 71,
     "metadata": {},
     "output_type": "execute_result"
    }
   ],
   "source": [
    "id(z)"
   ]
  },
  {
   "cell_type": "markdown",
   "id": "32b6f2ef",
   "metadata": {},
   "source": [
    "### 2.1.6 tensor转为python对象"
   ]
  },
  {
   "cell_type": "code",
   "execution_count": 72,
   "id": "2ede2419",
   "metadata": {},
   "outputs": [],
   "source": [
    "import numpy"
   ]
  },
  {
   "cell_type": "code",
   "execution_count": 73,
   "id": "62b4056f",
   "metadata": {},
   "outputs": [],
   "source": [
    "a = numpy.arange(3)"
   ]
  },
  {
   "cell_type": "code",
   "execution_count": 74,
   "id": "9d111ead",
   "metadata": {},
   "outputs": [
    {
     "data": {
      "text/plain": [
       "array([0, 1, 2])"
      ]
     },
     "execution_count": 74,
     "metadata": {},
     "output_type": "execute_result"
    }
   ],
   "source": [
    "a"
   ]
  },
  {
   "cell_type": "code",
   "execution_count": 75,
   "id": "747c7c5b",
   "metadata": {},
   "outputs": [],
   "source": [
    "b = torch.arange(3)"
   ]
  },
  {
   "cell_type": "code",
   "execution_count": 76,
   "id": "7c7743d0",
   "metadata": {},
   "outputs": [
    {
     "data": {
      "text/plain": [
       "tensor([0, 1, 2])"
      ]
     },
     "execution_count": 76,
     "metadata": {},
     "output_type": "execute_result"
    }
   ],
   "source": [
    "b"
   ]
  },
  {
   "cell_type": "code",
   "execution_count": 77,
   "id": "08b02f54",
   "metadata": {},
   "outputs": [
    {
     "data": {
      "text/plain": [
       "(numpy.ndarray, torch.Tensor)"
      ]
     },
     "execution_count": 77,
     "metadata": {},
     "output_type": "execute_result"
    }
   ],
   "source": [
    "type(a), type(b)"
   ]
  },
  {
   "cell_type": "code",
   "execution_count": 78,
   "id": "8612ff0a",
   "metadata": {},
   "outputs": [],
   "source": [
    "c = torch.tensor([11.9])"
   ]
  },
  {
   "cell_type": "code",
   "execution_count": 79,
   "id": "fcd95fd5",
   "metadata": {},
   "outputs": [
    {
     "data": {
      "text/plain": [
       "(tensor([11.9000]), 11.899999618530273, 11.899999618530273, 11)"
      ]
     },
     "execution_count": 79,
     "metadata": {},
     "output_type": "execute_result"
    }
   ],
   "source": [
    "c, c.item(), float(c), int(c)"
   ]
  },
  {
   "cell_type": "code",
   "execution_count": 80,
   "id": "a2f972af",
   "metadata": {},
   "outputs": [
    {
     "data": {
      "text/plain": [
       "'tensor([11.9000])'"
      ]
     },
     "execution_count": 80,
     "metadata": {},
     "output_type": "execute_result"
    }
   ],
   "source": [
    "str(c)"
   ]
  },
  {
   "cell_type": "code",
   "execution_count": null,
   "id": "bfc4e7ee",
   "metadata": {},
   "outputs": [],
   "source": []
  }
 ],
 "metadata": {
  "kernelspec": {
   "display_name": "Python 3 (ipykernel)",
   "language": "python",
   "name": "python3"
  },
  "language_info": {
   "codemirror_mode": {
    "name": "ipython",
    "version": 3
   },
   "file_extension": ".py",
   "mimetype": "text/x-python",
   "name": "python",
   "nbconvert_exporter": "python",
   "pygments_lexer": "ipython3",
   "version": "3.10.9"
  }
 },
 "nbformat": 4,
 "nbformat_minor": 5
}
