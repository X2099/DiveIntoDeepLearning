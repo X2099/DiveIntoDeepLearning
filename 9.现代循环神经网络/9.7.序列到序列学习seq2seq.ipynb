{
 "cells": [
  {
   "cell_type": "code",
   "execution_count": 1,
   "id": "39e065d8-e00a-4f10-8bb2-c626ccef9de6",
   "metadata": {},
   "outputs": [],
   "source": [
    "import torch"
   ]
  },
  {
   "cell_type": "code",
   "execution_count": 2,
   "id": "22eccfca-a633-436e-9d41-0667c178245b",
   "metadata": {},
   "outputs": [],
   "source": [
    "X = torch.tensor([[1, 2, 3], [4, 5, 6]])"
   ]
  },
  {
   "cell_type": "code",
   "execution_count": 3,
   "id": "f72e084d-3b46-4087-b969-60757af59691",
   "metadata": {},
   "outputs": [
    {
     "data": {
      "text/plain": [
       "tensor([[1, 2, 3],\n",
       "        [4, 5, 6]])"
      ]
     },
     "execution_count": 3,
     "metadata": {},
     "output_type": "execute_result"
    }
   ],
   "source": [
    "X"
   ]
  },
  {
   "cell_type": "code",
   "execution_count": 6,
   "id": "2c043766-e72f-4ff4-8161-fe8c942a95b6",
   "metadata": {},
   "outputs": [
    {
     "data": {
      "text/plain": [
       "tensor([0., 1., 2.])"
      ]
     },
     "execution_count": 6,
     "metadata": {},
     "output_type": "execute_result"
    }
   ],
   "source": [
    "torch.arange(maxlen, dtype=torch.float32, device=X.device)"
   ]
  },
  {
   "cell_type": "code",
   "execution_count": 5,
   "id": "b4620e8b-24df-4c42-a8b0-9537335ddef9",
   "metadata": {},
   "outputs": [
    {
     "data": {
      "text/plain": [
       "3"
      ]
     },
     "execution_count": 5,
     "metadata": {},
     "output_type": "execute_result"
    }
   ],
   "source": [
    "maxlen = X.size(1)\n",
    "maxlen"
   ]
  },
  {
   "cell_type": "code",
   "execution_count": 7,
   "id": "d531c8ed-8352-4152-bb99-dd01a687dc52",
   "metadata": {},
   "outputs": [
    {
     "data": {
      "text/plain": [
       "tensor([[0., 1., 2.]])"
      ]
     },
     "execution_count": 7,
     "metadata": {},
     "output_type": "execute_result"
    }
   ],
   "source": [
    "torch.arange(maxlen, dtype=torch.float32, device=X.device)[None, :]"
   ]
  },
  {
   "cell_type": "code",
   "execution_count": 10,
   "id": "91ae704b-1bd2-4910-975b-6110bff85cb3",
   "metadata": {},
   "outputs": [
    {
     "data": {
      "text/plain": [
       "tensor([[ True, False, False],\n",
       "        [ True,  True, False]])"
      ]
     },
     "execution_count": 10,
     "metadata": {},
     "output_type": "execute_result"
    }
   ],
   "source": [
    "valid_len = torch.tensor([1, 2])\n",
    "torch.arange(maxlen, dtype=torch.float32, device=X.device)[None, :] < valid_len[:, None]"
   ]
  },
  {
   "cell_type": "code",
   "execution_count": 11,
   "id": "ea102544-42c6-4b45-b7d2-ab363ed5aea4",
   "metadata": {},
   "outputs": [
    {
     "data": {
      "text/plain": [
       "tensor([[1],\n",
       "        [2]])"
      ]
     },
     "execution_count": 11,
     "metadata": {},
     "output_type": "execute_result"
    }
   ],
   "source": [
    "torch.tensor([1, 2])[:, None]"
   ]
  },
  {
   "cell_type": "code",
   "execution_count": null,
   "id": "718979e5-f4f0-4d7d-a543-4e354f54e74f",
   "metadata": {},
   "outputs": [],
   "source": []
  }
 ],
 "metadata": {
  "kernelspec": {
   "display_name": "Python 3 (ipykernel)",
   "language": "python",
   "name": "python3"
  },
  "language_info": {
   "codemirror_mode": {
    "name": "ipython",
    "version": 3
   },
   "file_extension": ".py",
   "mimetype": "text/x-python",
   "name": "python",
   "nbconvert_exporter": "python",
   "pygments_lexer": "ipython3",
   "version": "3.11.7"
  }
 },
 "nbformat": 4,
 "nbformat_minor": 5
}
